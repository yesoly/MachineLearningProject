{
  "nbformat": 4,
  "nbformat_minor": 0,
  "metadata": {
    "colab": {
      "name": "Assignment-06.ipynb",
      "provenance": [],
      "private_outputs": true,
      "mount_file_id": "1jhbp5ntq1aCzd5KZJe73p2NSPTJIIg8l",
      "authorship_tag": "ABX9TyOtdcBynjsoJMTOr78mFz40",
      "include_colab_link": true
    },
    "kernelspec": {
      "name": "python3",
      "display_name": "Python 3"
    }
  },
  "cells": [
    {
      "cell_type": "markdown",
      "metadata": {
        "id": "view-in-github",
        "colab_type": "text"
      },
      "source": [
        "<a href=\"https://colab.research.google.com/github/yesoly/MachineLearningProject/blob/master/Assignment_06.ipynb\" target=\"_parent\"><img src=\"https://colab.research.google.com/assets/colab-badge.svg\" alt=\"Open In Colab\"/></a>"
      ]
    },
    {
      "cell_type": "markdown",
      "metadata": {
        "id": "m_h4UlsYDmXP"
      },
      "source": [
        "# Code"
      ]
    },
    {
      "cell_type": "markdown",
      "metadata": {
        "id": "C-2LtdF_F3lG"
      },
      "source": [
        "## 0. Import library"
      ]
    },
    {
      "cell_type": "code",
      "metadata": {
        "id": "Pp4Mh8CVF1FJ"
      },
      "source": [
        "# Import libraries\n",
        "\n",
        "# math library\n",
        "import numpy as np\n",
        "\n",
        "# visualization library\n",
        "%matplotlib inline\n",
        "from IPython.display import set_matplotlib_formats\n",
        "set_matplotlib_formats('png2x','pdf')\n",
        "import matplotlib.pyplot as plt"
      ],
      "execution_count": null,
      "outputs": []
    },
    {
      "cell_type": "markdown",
      "metadata": {
        "id": "1KYkHtwlFOyl"
      },
      "source": [
        "## 1. Load and plot the dataset"
      ]
    },
    {
      "cell_type": "code",
      "metadata": {
        "id": "OxTxdcRvDaJ6"
      },
      "source": [
        "import numpy as np\n",
        "import matplotlib.pyplot as plt\n",
        "# data path\n",
        "test_path = '/content/drive/My Drive/ML_Assignment/data/testing.txt'\n",
        "train_path = '/content/drive/My Drive/ML_Assignment/data/training.txt'\n",
        "\n",
        "# import data with numpy\n",
        "data_train  = np.loadtxt(train_path, delimiter=',')\n",
        "data_test   = np.loadtxt(test_path, delimiter=',')\n",
        "\n",
        "# number of training data\n",
        "number_data_train   = data_train.shape[0] \n",
        "number_data_test    = data_test.shape[0]\n",
        "\n",
        "# training data\n",
        "x1_train            = data_train[:,0] # feature 1\n",
        "x2_train            = data_train[:,1] # feature 2\n",
        "idx_class0_train    = (data_train[:,2]==0) # index of class0\n",
        "idx_class1_train    = (data_train[:,2]==1) # index of class1\n",
        "\n",
        "# testing data\n",
        "x1_test             = data_test[:,0] # feature 1\n",
        "x2_test             = data_test[:,1] # feature 2\n",
        "idx_class0_test     = (data_test[:,2]==0) # index of class0\n",
        "idx_class1_test     = (data_test[:,2]==1) # index of clas"
      ],
      "execution_count": null,
      "outputs": []
    },
    {
      "cell_type": "code",
      "metadata": {
        "id": "1qeKkYoTGDZp"
      },
      "source": [
        "fig_1 = plt.figure()\n",
        "plt.scatter(x1_train[idx_class0_train], x2_train[idx_class0_train], s=50, c='r', marker='.', label='label = 0') \n",
        "plt.scatter(x1_train[idx_class1_train], x2_train[idx_class1_train], s=50, c='b', marker='.', label='label = 1')\n",
        "plt.title('Training data')\n",
        "plt.legend()\n",
        "plt.show()\n",
        "fig_1.savefig('Training data.png')"
      ],
      "execution_count": null,
      "outputs": []
    },
    {
      "cell_type": "code",
      "metadata": {
        "id": "tyFXEAYoHaz0"
      },
      "source": [
        "fig_2 = plt.figure()\n",
        "plt.scatter(x1_test[idx_class0_test], x2_test[idx_class0_test], s=50, c='r', marker='.', label='label = 0')\n",
        "plt.scatter(x1_test[idx_class1_test], x2_test[idx_class1_test], s=50, c='b', marker='.', label='label = 1')\n",
        "plt.title('Testing data')\n",
        "plt.legend()\n",
        "plt.show()\n",
        "fig_2.savefig('Testing data.png')"
      ],
      "execution_count": null,
      "outputs": []
    },
    {
      "cell_type": "markdown",
      "metadata": {
        "id": "_yfwCoHmFVR9"
      },
      "source": [
        "##2. Define a logistic regression loss function and its gradient\n"
      ]
    },
    {
      "cell_type": "code",
      "metadata": {
        "id": "JJa8Hxs5FUqI"
      },
      "source": [
        "# sigmoid function\n",
        "def sigmoid(z):\n",
        "    sigmoid_f = 1.0 / (1.0 + np.exp(-z))\n",
        "    return sigmoid_f \n",
        "\n",
        "\n",
        "# predictive function definition\n",
        "def f_pred(X,w): \n",
        "    p = sigmoid(np.dot(X,w))\n",
        "    return p\n",
        "\n",
        "\n",
        "# loss function definition\n",
        "def loss_logreg(y_pred,y): \n",
        "    n = len(y)\n",
        "    loss = np.sum(-y * np.log(y_pred) - (1 - y) * np.log(1 - y_pred)) / n\n",
        "    return loss\n",
        "\n",
        "\n",
        "# gradient function definition\n",
        "def grad_loss(y_pred,y,X):\n",
        "    n = len(y)\n",
        "    grad = 2 * np.dot(X.T, (y_pred - y)) / n\n",
        "    return grad\n",
        "\n",
        "\n",
        "# gradient descent function definition\n",
        "def grad_desc(X, y , w_init, tau, max_iter):\n",
        "    L_iters = np.zeros([max_iter]) # record the loss values\n",
        "    w = w_init # initialization\n",
        "    for i in range(max_iter): # loop over the iterations\n",
        "        y_pred = f_pred(X,w) # linear predicition function   \n",
        "        grad_f = grad_loss(y_pred,y,X) # gradient of the loss  \n",
        "        w = w - tau * grad_f # update rule of gradient descent  \n",
        "        L_iters[i] = loss_logreg(y_pred,y) # save the current loss value \n",
        "        \n",
        "    return w, L_iters"
      ],
      "execution_count": null,
      "outputs": []
    },
    {
      "cell_type": "markdown",
      "metadata": {
        "id": "eD2x0yiDJAxW"
      },
      "source": [
        "## 3. define a prediction function and run a gradient descent algorithm"
      ]
    },
    {
      "cell_type": "code",
      "metadata": {
        "id": "7uATuX29JDuV"
      },
      "source": [
        "# construct the data matrix X, and label vector y\n",
        "n = data.shape[0]\n",
        "X = feature_function(x1, x2)\n",
        "y = data[:,2][:,None] # label \n",
        "print(y.shape)\n",
        "\n",
        "\n",
        "# run gradient descent algorithm\n",
        "start = time.time()\n",
        "w_init = np.array([0.,0.,0.,0.,0.,0.,0.,0.,0.,0.])[:,None]\n",
        "tau = 0.005; max_iter = 15000\n",
        "w, L_iters = grad_desc(X, y , w_init, tau, max_iter)\n",
        "print('Time=',time.time() - start)\n",
        "print(L_iters[-1])\n",
        "print(w)\n",
        "\n",
        "\n",
        "# plot\n",
        "fig_2 = plt.figure(4, figsize=(10,6))\n",
        "plt.plot(np.array(range(max_iter)), L_iters)\n",
        "plt.xlabel('Iterations')\n",
        "plt.ylabel('Loss value')\n",
        "plt.show()\n",
        "fig_2.savefig('Plot the loss curve.png')"
      ],
      "execution_count": null,
      "outputs": []
    },
    {
      "cell_type": "markdown",
      "metadata": {
        "id": "1osGymQpJOZg"
      },
      "source": [
        "## 4. Plot the decisoin boundary with probability map"
      ]
    },
    {
      "cell_type": "code",
      "metadata": {
        "id": "7pWPPKr1JN29"
      },
      "source": [
        "# compute values p(x) for multiple data points x\n",
        "x1_min, x1_max = x1.min(), x1.max() # min and max of grade 1\n",
        "x2_min, x2_max = x2.min(), x2.max() # min and max of grade 2\n",
        "xx1, xx2 = np.meshgrid(np.linspace(x1_min, x1_max), np.linspace(x2_min, x2_max)) # create meshgrid\n",
        "X2 = feature_function(xx1.reshape(-1), xx2.reshape(-1))\n",
        "\n",
        "p = f_pred(X2,w)\n",
        "p = p.reshape(50,50)\n",
        "\n",
        "# plot\n",
        "fig_3 = plt.figure(4,figsize=(10,10))\n",
        "\n",
        "ax = plt.contourf(xx1,xx2,p,100,vmin=0,vmax=1,cmap='coolwarm', alpha=0.6)\n",
        "cbar = plt.colorbar(ax)\n",
        "cbar.update_ticks()\n",
        "\n",
        "plt.scatter(x1[idx_class0], x2[idx_class0], s=50, c='r', marker='.', label='class=0') \n",
        "plt.scatter(x1[idx_class1], x2[idx_class1], s=50, c='b', marker='.', label='class=1')\n",
        "plt.contour(xx1, xx2, p, [0.5], linewidths=2, colors='k') \n",
        "plt.legend(loc = 'upper right')\n",
        "plt.title('Decision boundary (cubic)')\n",
        "plt.show()\n",
        "fig_3.savefig('Plot the decisoin boundary.png')"
      ],
      "execution_count": null,
      "outputs": []
    },
    {
      "cell_type": "markdown",
      "metadata": {
        "id": "YaBs0T17Jd45"
      },
      "source": [
        "## 5. Compute the classification accuracy"
      ]
    },
    {
      "cell_type": "code",
      "metadata": {
        "id": "2CNvC-dPJqZ9"
      },
      "source": [
        "# compute the accuracy of the classifier\n",
        "n = data.shape[0]\n",
        "print('total number of data = ', n)\n",
        "\n",
        "# plot\n",
        "x1 = data[:,0] # feature 1\n",
        "x2 = data[:,1] # feature 2\n",
        "idx_class0 = (idx == 0)# index of class0\n",
        "idx_class1 = (idx == 1) # index of class1\n",
        "\n",
        "X2 = feature_function(x1, x2)\n",
        "p = f_pred(X2,w)\n",
        "\n",
        "idx_class0_pred = (p < 0.5)\n",
        "\n",
        "idx_right = (idx_class0 == idx_class0_pred.reshape(-1))\n",
        "\n",
        "print('total number of correctly classified data = ', sum(idx_right))\n",
        "print('accuracy(%) = ', sum(idx_right)/n * 100)"
      ],
      "execution_count": null,
      "outputs": []
    },
    {
      "cell_type": "markdown",
      "metadata": {
        "id": "NsezpeV8Dtgo"
      },
      "source": [
        "# OUTPUT"
      ]
    },
    {
      "cell_type": "markdown",
      "metadata": {
        "id": "b4mboRZ0D1Wm"
      },
      "source": [
        "## 1. Plot the training data [0.5pt] "
      ]
    },
    {
      "cell_type": "code",
      "metadata": {
        "id": "wDpchonsD0Q9"
      },
      "source": [
        "fig_1"
      ],
      "execution_count": null,
      "outputs": []
    },
    {
      "cell_type": "markdown",
      "metadata": {
        "id": "IBz0oCbND6nu"
      },
      "source": [
        "## 2. Plot the testing data [0.5pt]"
      ]
    },
    {
      "cell_type": "code",
      "metadata": {
        "id": "_cp7CvddD9fg"
      },
      "source": [
        "fig_2"
      ],
      "execution_count": null,
      "outputs": []
    },
    {
      "cell_type": "markdown",
      "metadata": {
        "id": "iDqImovMD-QK"
      },
      "source": [
        "## 3. Plot the learning curve with λ=0.00001 [1pt]"
      ]
    },
    {
      "cell_type": "code",
      "metadata": {
        "id": "jiwxpNKREBpQ"
      },
      "source": [
        ""
      ],
      "execution_count": null,
      "outputs": []
    },
    {
      "cell_type": "markdown",
      "metadata": {
        "id": "LGVMnxYqEIFL"
      },
      "source": [
        "## 4. Plot the learning curve with λ=0.0001 [1pt]"
      ]
    },
    {
      "cell_type": "code",
      "metadata": {
        "id": "7NbOZKLdEPdu"
      },
      "source": [
        ""
      ],
      "execution_count": null,
      "outputs": []
    },
    {
      "cell_type": "markdown",
      "metadata": {
        "id": "YdBB3DNvERhI"
      },
      "source": [
        "## 5. Plot the learning curve with λ=0.001 [1pt]"
      ]
    },
    {
      "cell_type": "code",
      "metadata": {
        "id": "yb5tczFJEVB0"
      },
      "source": [
        ""
      ],
      "execution_count": null,
      "outputs": []
    },
    {
      "cell_type": "markdown",
      "metadata": {
        "id": "HvgMCmN3EVll"
      },
      "source": [
        "## 6. Plot the learning curve with λ=0.01 [1pt]"
      ]
    },
    {
      "cell_type": "code",
      "metadata": {
        "id": "gTEMsAsOEXy1"
      },
      "source": [
        ""
      ],
      "execution_count": null,
      "outputs": []
    },
    {
      "cell_type": "markdown",
      "metadata": {
        "id": "x4_f1GhtEY4W"
      },
      "source": [
        "## 7. Plot the learning curve with λ=0.1 [1pt]"
      ]
    },
    {
      "cell_type": "code",
      "metadata": {
        "id": "2uoZBaz-EbOR"
      },
      "source": [
        ""
      ],
      "execution_count": null,
      "outputs": []
    },
    {
      "cell_type": "markdown",
      "metadata": {
        "id": "3FKVM93tEc7o"
      },
      "source": [
        "## 8. Plot the probability map of the obtained classifier with λ=0.00001 [1pt]"
      ]
    },
    {
      "cell_type": "code",
      "metadata": {
        "id": "_oRnuPe5Eg6k"
      },
      "source": [
        ""
      ],
      "execution_count": null,
      "outputs": []
    },
    {
      "cell_type": "markdown",
      "metadata": {
        "id": "3MB6BOYzElFs"
      },
      "source": [
        "## 9. Plot the probability map of the obtained classifier with λ=0.0001 [1pt]"
      ]
    },
    {
      "cell_type": "code",
      "metadata": {
        "id": "RBoAUENxEl3W"
      },
      "source": [
        ""
      ],
      "execution_count": null,
      "outputs": []
    },
    {
      "cell_type": "markdown",
      "metadata": {
        "id": "Dvz6O6d4EpHo"
      },
      "source": [
        "## 10. Plot the probability map of the obtained classifier with λ=0.001 [1pt]"
      ]
    },
    {
      "cell_type": "code",
      "metadata": {
        "id": "GeEg1NTJEq9H"
      },
      "source": [
        ""
      ],
      "execution_count": null,
      "outputs": []
    },
    {
      "cell_type": "markdown",
      "metadata": {
        "id": "ijBtX4y7Erpw"
      },
      "source": [
        "## 11. Plot the probability map of the obtained classifier with λ=0.01 [1pt]"
      ]
    },
    {
      "cell_type": "code",
      "metadata": {
        "id": "PPNLuqM4Eu13"
      },
      "source": [
        ""
      ],
      "execution_count": null,
      "outputs": []
    },
    {
      "cell_type": "markdown",
      "metadata": {
        "id": "-IHkIVp5Evlv"
      },
      "source": [
        "## 12. Plot the probability map of the obtained classifier with λ=0.1 [1pt]"
      ]
    },
    {
      "cell_type": "code",
      "metadata": {
        "id": "SpCwpRgKEypH"
      },
      "source": [
        ""
      ],
      "execution_count": null,
      "outputs": []
    },
    {
      "cell_type": "markdown",
      "metadata": {
        "id": "WO66b4TNE0tJ"
      },
      "source": [
        "##13. Print the final training accuracy with the given regularization parameters [2.5pt]"
      ]
    },
    {
      "cell_type": "code",
      "metadata": {
        "id": "pwGBuwTuE9OG"
      },
      "source": [
        ""
      ],
      "execution_count": null,
      "outputs": []
    },
    {
      "cell_type": "markdown",
      "metadata": {
        "id": "ruuNcRlYE5Ec"
      },
      "source": [
        "##14. Print the final testing accuracy with the given regularization parameters [2.5pt]"
      ]
    },
    {
      "cell_type": "code",
      "metadata": {
        "id": "eHH8TdeLE4Ys"
      },
      "source": [
        ""
      ],
      "execution_count": null,
      "outputs": []
    }
  ]
}