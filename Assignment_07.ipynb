{
  "nbformat": 4,
  "nbformat_minor": 0,
  "metadata": {
    "colab": {
      "name": "Assignment-07.ipynb",
      "provenance": [],
      "private_outputs": true,
      "toc_visible": true,
      "mount_file_id": "1wY8t_x-UwCirV009sLYcNUhC-M00UfIj",
      "authorship_tag": "ABX9TyOTvoUoVYGg4cy+baURNr4w",
      "include_colab_link": true
    },
    "kernelspec": {
      "name": "python3",
      "display_name": "Python 3"
    }
  },
  "cells": [
    {
      "cell_type": "markdown",
      "metadata": {
        "id": "view-in-github",
        "colab_type": "text"
      },
      "source": [
        "<a href=\"https://colab.research.google.com/github/yesoly/MachineLearningProject/blob/master/Assignment_07.ipynb\" target=\"_parent\"><img src=\"https://colab.research.google.com/assets/colab-badge.svg\" alt=\"Open In Colab\"/></a>"
      ]
    },
    {
      "cell_type": "markdown",
      "metadata": {
        "id": "lbncEkW-lFrw"
      },
      "source": [
        "# K-means clustering"
      ]
    },
    {
      "cell_type": "markdown",
      "metadata": {
        "id": "QK01KQ8qlMSy"
      },
      "source": [
        "## 1. Data"
      ]
    },
    {
      "cell_type": "markdown",
      "metadata": {
        "id": "RmKR9zkLmrI_"
      },
      "source": [
        "\n",
        "\n",
        "- the data are given by the file data-kmeans.csv\n",
        "- the data consist of a set of points $\\{ (x_i, y_i) \\}_{i=1}^{n}​$ where $z_i = (x_i, y_i)$ denotes a 2-dimensional point in the cartesian coordinate and $n$ is given as $200$\n",
        "\n"
      ]
    },
    {
      "cell_type": "markdown",
      "metadata": {
        "id": "UA-Y91DvmACZ"
      },
      "source": [
        "load the data from the files"
      ]
    },
    {
      "cell_type": "code",
      "metadata": {
        "id": "MQRrsn3Yk9Wz"
      },
      "source": [
        "import numpy as np\n",
        "import matplotlib.pyplot as plt\n",
        "import pandas as pd\n",
        "import random as rd\n",
        "\n",
        "path = '/content/drive/My Drive/ML_Assignment/data/data-kmeans.csv'\n",
        "dataset = pd.read_csv(path)\n",
        "data = dataset.values\n",
        "x_data = data[:,0] # x\n",
        "y_data = data[:,1] # y"
      ],
      "execution_count": null,
      "outputs": []
    },
    {
      "cell_type": "markdown",
      "metadata": {
        "id": "Kr6Una9CsZih"
      },
      "source": [
        "Plot the data points"
      ]
    },
    {
      "cell_type": "code",
      "metadata": {
        "id": "XE7iFEoSr39F"
      },
      "source": [
        "fig_1 = plt.figure(figsize = (8,8))\n",
        "plt.scatter(x_data, y_data, c='k', label='data') \n",
        "plt.title('data point')\n",
        "plt.legend()\n",
        "plt.show()\n",
        "fig_1.savefig('data point.png')"
      ],
      "execution_count": null,
      "outputs": []
    },
    {
      "cell_type": "markdown",
      "metadata": {
        "id": "4m3siWiilQ19"
      },
      "source": [
        "## 2. Loss"
      ]
    },
    {
      "cell_type": "markdown",
      "metadata": {
        "id": "xaRo1WVYnwwJ"
      },
      "source": [
        "- the loss function $\\mathcal{L}(C_1, C_2, \\cdots, C_k, \\mu_1, \\mu_2, \\cdots, \\mu_k)$ with a given number of clusters $k$ for a set of data $\\{ z_i \\}_{i=1}^{n}$ is defined by: $\\mathcal{L}(C_1, C_2, \\cdots, C_k, \\mu_1, \\mu_2, \\cdots, \\mu_k) = \\frac{1}{n} \\sum_{i=1}^n \\| z_i - \\mu_{l(z_i)} \\|_2^2 = \\frac{1}{n} \\sum_{j=1}^k \\sum_{z_i \\in C_j} \\| z_i - \\mu_j \\|_2^2$\n",
        "\n",
        "\n",
        "> * $l(z)=k$ is a label function that defines a label $k$ of point $z$\n",
        "> * $C_k$ denotes a set of points $\\{ z_i | l(z_i) = k \\}$ of label $k$\n",
        "> * $μ_k$​ denotes a centroid of points in $C_k$​\n",
        "\n",
        "\n",
        "\n",
        "\n",
        "\n",
        "\n",
        "\n"
      ]
    },
    {
      "cell_type": "markdown",
      "metadata": {
        "id": "v9-46ojSMgcl"
      },
      "source": [
        "define a function to compute a initial centroid"
      ]
    },
    {
      "cell_type": "code",
      "metadata": {
        "id": "EFFuXRuYL6Bx"
      },
      "source": [
        "def init_centroid(k):\n",
        "  centroids = np.array([]).reshape(2,0)\n",
        "  for i in range(k):\n",
        "    rand = rd.randint(0, 200)\n",
        "    centroids = np.c_[centroids, data[rand]]\n",
        "\n",
        "  return centroids.T"
      ],
      "execution_count": null,
      "outputs": []
    },
    {
      "cell_type": "markdown",
      "metadata": {
        "id": "S7OlSq1XmDAv"
      },
      "source": [
        "define a function to compute a distance between two points $a$ and $b$"
      ]
    },
    {
      "cell_type": "code",
      "metadata": {
        "id": "DYKoHdV6mFDV"
      },
      "source": [
        "def compute_distance(data, c):\n",
        "\n",
        "    dist = np.array([]).reshape(200,0)\n",
        "\n",
        "    # distance between data and cluster\n",
        "    for i in range(5):\n",
        "      i_dist = np.sqrt(np.sum((data - c[i,:])**2, axis=1))\n",
        "      dist = np.c_[dist, i_dist]\n",
        "\n",
        "    return dist"
      ],
      "execution_count": null,
      "outputs": []
    },
    {
      "cell_type": "code",
      "metadata": {
        "id": "cH2pDEwhkruz"
      },
      "source": [
        "def compute_centroid_distrance(c):\n",
        "    dist = []\n",
        "    # distance between data and cluster\n",
        "    for i in range(5):\n",
        "      i_dist = np.sqrt(np.sum((c[i,:])**2))\n",
        "      dist.append(i_dist)\n",
        "\n",
        "    return dist"
      ],
      "execution_count": null,
      "outputs": []
    },
    {
      "cell_type": "markdown",
      "metadata": {
        "id": "3vbX_U-vmGxf"
      },
      "source": [
        "define a function to compute a centroid from a given set of points $Z$"
      ]
    },
    {
      "cell_type": "code",
      "metadata": {
        "id": "YpeXG8dXmGkx"
      },
      "source": [
        "def compute_centroid(cluster):\n",
        "    center = np.array([]).reshape(2,0)\n",
        "    # centroid of a set of points in Z\n",
        "    for i in range(5):\n",
        "        idx = (cluster[:,2]==i)\n",
        "        i_center = np.mean(data[idx],axis=0)\n",
        "        center = np.c_[center, i_center]\n",
        "    return center.T"
      ],
      "execution_count": null,
      "outputs": []
    },
    {
      "cell_type": "markdown",
      "metadata": {
        "id": "l74dUTbAmeoq"
      },
      "source": [
        "define a function to compute the loss with a set of clusters $C$ and a set of centroids $M$"
      ]
    },
    {
      "cell_type": "code",
      "metadata": {
        "id": "H27myfj9mdxO"
      },
      "source": [
        "def compute_loss(cluster, centroids):\n",
        "    loss_list = []\n",
        "    loss = 0\n",
        "\n",
        "    for i in range(5):\n",
        "      idx = (cluster[:,2]==i)\n",
        "      i_loss = np.sqrt(np.sum((data[idx] - centroids[i,:])**2))\n",
        "      loss += i_loss\n",
        "  \n",
        "    loss = loss / len(cluster)\n",
        "    return loss"
      ],
      "execution_count": null,
      "outputs": []
    },
    {
      "cell_type": "markdown",
      "metadata": {
        "id": "FQ_67saIlVy0"
      },
      "source": [
        "## 3. Optimization"
      ]
    },
    {
      "cell_type": "markdown",
      "metadata": {
        "id": "z2TJ2EHkpWUn"
      },
      "source": [
        "* the label $l(z)$ of each point $z$ is determined by:\n",
        "$l(z) = \\arg\\min_k \\| z - \\mu_k \\|_2^2$\n",
        "\n",
        "* the centroid $\\mu_i$​ of cluster $k$ is determined by:\n",
        "$\\mu_k = \\frac{\\sum_{z_i \\in C_k} z_i}{|C_k|}​​$\n",
        "\n",
        "\n",
        "\n"
      ]
    },
    {
      "cell_type": "markdown",
      "metadata": {
        "id": "k2r6sWRHmSxt"
      },
      "source": [
        "define a function to determine the label of point $z$ with a set of centroids $M$"
      ]
    },
    {
      "cell_type": "code",
      "metadata": {
        "id": "ri0pe7tFmZBz"
      },
      "source": [
        "def compute_label(dist):\n",
        "\n",
        "    argmin_label = np.argmin(dist, axis=1) #label of point z with a set of centroids M#\n",
        "    label = np.c_[data, argmin_label]\n",
        "    \n",
        "    return label"
      ],
      "execution_count": null,
      "outputs": []
    },
    {
      "cell_type": "markdown",
      "metadata": {
        "id": "091TUiZ2lZyi"
      },
      "source": [
        "##4. Clustering"
      ]
    },
    {
      "cell_type": "markdown",
      "metadata": {
        "id": "neGTJaSipxnv"
      },
      "source": [
        "* initialise labels $l(z_i)$ for point $z_i$​ for all $i$ randomly\n",
        "* optimise the loss function with respect to the centroids and the clusters in an alternative way\n",
        "* set the number of clusters $k = 5$"
      ]
    },
    {
      "cell_type": "markdown",
      "metadata": {
        "id": "rPzp9qOExKIe"
      },
      "source": [
        "Visualise the initial condition of the point labels"
      ]
    },
    {
      "cell_type": "code",
      "metadata": {
        "id": "jKKefigMlcGk"
      },
      "source": [
        "k = 5   # set the number of clusters\n",
        "n = len(data)\n",
        "max_iter = 50\n",
        "centroids = init_centroid(k)\n",
        "labels = np.random.randint(low=0, high=k, size=n)\n",
        "result = np.c_[data, labels]"
      ],
      "execution_count": null,
      "outputs": []
    },
    {
      "cell_type": "code",
      "metadata": {
        "id": "hIyqvDoC2fVQ"
      },
      "source": [
        "fig_2 = plt.figure(figsize = (8,8))\n",
        "color=['red','blue','green', 'black', 'yellow']\n",
        "label=['Cluster 1','Cluster 2','Cluster 3', 'Cluster 4', 'Cluster 5']\n",
        "for i in range(k):\n",
        "    idx = (result[:,2]==i)\n",
        "    plt.scatter(x_data[idx],y_data[idx], c=color[i],label=label[i])\n",
        "plt.scatter(centroids[:,0],centroids[:,1],s=300, c='k', marker='+', label='Centroids')\n",
        "\n",
        "plt.title('Initial cluster')\n",
        "plt.legend()\n",
        "plt.show()\n",
        "fig_2.savefig('Initial cluster.png')"
      ],
      "execution_count": null,
      "outputs": []
    },
    {
      "cell_type": "code",
      "metadata": {
        "id": "R1H4k-qlyTtP"
      },
      "source": [
        "def k_means_clustering(max_iter, data, centroids):\n",
        "    loss_iters = [] # record the loss values\n",
        "    centroid_iters = []\n",
        "\n",
        "    for i in range(max_iter):\n",
        "        dist = compute_distance(data, centroids)\n",
        "        cluster = compute_label(dist)\n",
        "        centroids = compute_centroid(cluster)\n",
        "        loss = compute_loss(cluster, centroids)\n",
        "        c_dist = compute_centroid_distrance(centroids)\n",
        "        loss_iters.append(loss)      # save the current loss value\n",
        "        centroid_iters.append(c_dist)\n",
        "\n",
        "    return cluster, centroids, loss_iters, centroid_iters"
      ],
      "execution_count": null,
      "outputs": []
    },
    {
      "cell_type": "code",
      "metadata": {
        "id": "5KZCFo07IBuY"
      },
      "source": [
        "final_result, final_c, loss_iter, c_iter = k_means_clustering(max_iter, data, centroids)"
      ],
      "execution_count": null,
      "outputs": []
    },
    {
      "cell_type": "markdown",
      "metadata": {
        "id": "fIOCJJJed5Oi"
      },
      "source": [
        "Plot the loss curve"
      ]
    },
    {
      "cell_type": "code",
      "metadata": {
        "id": "gCgDmFHGdz3H"
      },
      "source": [
        "# Plot the loss curve\n",
        "fig_3 = plt.figure(figsize = (8,5))\n",
        "plt.plot(np.array(range(max_iter)),loss_iter, c = 'b')\n",
        "plt.title('Loss')\n",
        "plt.show()\n",
        "fig_3.savefig('Loss.png')"
      ],
      "execution_count": null,
      "outputs": []
    },
    {
      "cell_type": "markdown",
      "metadata": {
        "id": "kc3SrkefePeA"
      },
      "source": [
        "Plot the centroid of each clsuter"
      ]
    },
    {
      "cell_type": "code",
      "metadata": {
        "id": "J4Z09pnUePCF"
      },
      "source": [
        "# Plot the centroid of each clsuter\n",
        "fig_4 = plt.figure(figsize = (8,8))\n",
        "color=['red','blue','green', 'black', 'yellow']\n",
        "label=['Cluster 1','Cluster 2','Cluster 3', 'Cluster 4', 'Cluster 5']\n",
        "np_c_iter = np.array(c_iter)\n",
        "\n",
        "for i in range(k):\n",
        "    idx = (final_result[:,2]==i)\n",
        "    plt.plot(np.array(range(max_iter)), np_c_iter[:,i], c=color[i],label=label[i])\n",
        "\n",
        "plt.title('centroid of clsuter')\n",
        "plt.legend(loc = 'upper right')\n",
        "plt.show()\n",
        "fig_4.savefig('centroid of clsuter.png')"
      ],
      "execution_count": null,
      "outputs": []
    },
    {
      "cell_type": "markdown",
      "metadata": {
        "id": "13CPqcFCeLkA"
      },
      "source": [
        "Plot the final clustering result"
      ]
    },
    {
      "cell_type": "code",
      "metadata": {
        "id": "62qFG7T0xFMI"
      },
      "source": [
        "fig_5 = plt.figure(figsize = (8,8))\n",
        "color=['red','blue','green', 'black', 'yellow']\n",
        "label=['Cluster 1','Cluster 2','Cluster 3', 'Cluster 4', 'Cluster 5']\n",
        "for i in range(k):\n",
        "    idx = (final_result[:,2]==i)\n",
        "    plt.scatter(x_data[idx],y_data[idx], c=color[i],label=label[i])\n",
        "plt.scatter(final_c[:,0],final_c[:,1],s=300, c='k', marker='+', label='Centroids')\n",
        "\n",
        "plt.title('Final cluster')\n",
        "plt.legend()\n",
        "plt.show()\n",
        "fig_5.savefig('Final cluster.png')"
      ],
      "execution_count": null,
      "outputs": []
    },
    {
      "cell_type": "markdown",
      "metadata": {
        "id": "BTQzoU0sldv1"
      },
      "source": [
        "# Output"
      ]
    },
    {
      "cell_type": "markdown",
      "metadata": {
        "id": "6xQfvEZDlmH5"
      },
      "source": [
        "##1. Plot the data points [1pt]"
      ]
    },
    {
      "cell_type": "code",
      "metadata": {
        "id": "YCypyfNQllIA"
      },
      "source": [
        "fig_1"
      ],
      "execution_count": null,
      "outputs": []
    },
    {
      "cell_type": "markdown",
      "metadata": {
        "id": "mJ2i0Rhrllzz"
      },
      "source": [
        "## 2. Visualise the initial condition of the point labels [1pt]"
      ]
    },
    {
      "cell_type": "code",
      "metadata": {
        "id": "-y2jJ9hSljUA"
      },
      "source": [
        "fig_2"
      ],
      "execution_count": null,
      "outputs": []
    },
    {
      "cell_type": "markdown",
      "metadata": {
        "id": "yNuHeULSlu7f"
      },
      "source": [
        "## 3. Plot the loss curve [5pt]"
      ]
    },
    {
      "cell_type": "code",
      "metadata": {
        "id": "oWPt45Tmlvet"
      },
      "source": [
        "fig_3"
      ],
      "execution_count": null,
      "outputs": []
    },
    {
      "cell_type": "markdown",
      "metadata": {
        "id": "ld9gnsihlyYN"
      },
      "source": [
        "##4. Plot the centroid of each clsuter [5pt]"
      ]
    },
    {
      "cell_type": "code",
      "metadata": {
        "id": "xNpvHieHl2BI"
      },
      "source": [
        "fig_4"
      ],
      "execution_count": null,
      "outputs": []
    },
    {
      "cell_type": "markdown",
      "metadata": {
        "id": "YB00dWhhl2gx"
      },
      "source": [
        "##5. Plot the final clustering result [5pt]"
      ]
    },
    {
      "cell_type": "code",
      "metadata": {
        "id": "gkaRKFYRl6y8"
      },
      "source": [
        "fig_5"
      ],
      "execution_count": null,
      "outputs": []
    }
  ]
}