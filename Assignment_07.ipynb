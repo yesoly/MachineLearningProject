{
  "nbformat": 4,
  "nbformat_minor": 0,
  "metadata": {
    "colab": {
      "name": "Assignment-07.ipynb",
      "provenance": [],
      "private_outputs": true,
      "authorship_tag": "ABX9TyPN4EWnQ5UnBbWZw/FbuPgl",
      "include_colab_link": true
    },
    "kernelspec": {
      "name": "python3",
      "display_name": "Python 3"
    }
  },
  "cells": [
    {
      "cell_type": "markdown",
      "metadata": {
        "id": "view-in-github",
        "colab_type": "text"
      },
      "source": [
        "<a href=\"https://colab.research.google.com/github/yesoly/MachineLearningProject/blob/master/Assignment_07.ipynb\" target=\"_parent\"><img src=\"https://colab.research.google.com/assets/colab-badge.svg\" alt=\"Open In Colab\"/></a>"
      ]
    },
    {
      "cell_type": "markdown",
      "metadata": {
        "id": "lbncEkW-lFrw"
      },
      "source": [
        "# K-means clustering"
      ]
    },
    {
      "cell_type": "markdown",
      "metadata": {
        "id": "QK01KQ8qlMSy"
      },
      "source": [
        "## 1. Data"
      ]
    },
    {
      "cell_type": "markdown",
      "metadata": {
        "id": "RmKR9zkLmrI_"
      },
      "source": [
        "\n",
        "\n",
        "- the data are given by the file data-kmeans.csv\n",
        "- the data consist of a set of points $\\{ (x_i, y_i) \\}_{i=1}^{n}​$ where $z_i = (x_i, y_i)$ denotes a 2-dimensional point in the cartesian coordinate and $n$ is given as $200$\n",
        "\n"
      ]
    },
    {
      "cell_type": "markdown",
      "metadata": {
        "id": "UA-Y91DvmACZ"
      },
      "source": [
        "* load the data from the files"
      ]
    },
    {
      "cell_type": "code",
      "metadata": {
        "id": "MQRrsn3Yk9Wz"
      },
      "source": [
        "import numpy as np\n",
        "import matplotlib.pyplot as plt\n",
        "import pandas as pd\n",
        "\n",
        "dataset = pd.read_csv('data-kmeans.csv')\n",
        "data = dataset.values"
      ],
      "execution_count": null,
      "outputs": []
    },
    {
      "cell_type": "markdown",
      "metadata": {
        "id": "S7OlSq1XmDAv"
      },
      "source": [
        "* define a function to compute a distance between two points $a$ and $b$"
      ]
    },
    {
      "cell_type": "code",
      "metadata": {
        "id": "DYKoHdV6mFDV"
      },
      "source": [
        "def compute_distance(a, b):\n",
        "\n",
        "    dist = #distance between a and b#\n",
        "\n",
        "    return dist"
      ],
      "execution_count": null,
      "outputs": []
    },
    {
      "cell_type": "markdown",
      "metadata": {
        "id": "3vbX_U-vmGxf"
      },
      "source": [
        "* define a function to compute a centroid from a given set of points $Z$"
      ]
    },
    {
      "cell_type": "code",
      "metadata": {
        "id": "YpeXG8dXmGkx"
      },
      "source": [
        "def compute_centroid(Z):\n",
        "\n",
        "    center = #centroid of a set of points in P#\n",
        "    \n",
        "    return center"
      ],
      "execution_count": null,
      "outputs": []
    },
    {
      "cell_type": "markdown",
      "metadata": {
        "id": "k2r6sWRHmSxt"
      },
      "source": [
        "* define a function to determine the label of point $z$ with a set of centroids $M$"
      ]
    },
    {
      "cell_type": "code",
      "metadata": {
        "id": "ri0pe7tFmZBz"
      },
      "source": [
        "def compute_label(z, M):\n",
        "\n",
        "    label = #label of point z with a set of centroids M#\n",
        "    \n",
        "    return label"
      ],
      "execution_count": null,
      "outputs": []
    },
    {
      "cell_type": "markdown",
      "metadata": {
        "id": "l74dUTbAmeoq"
      },
      "source": [
        "* define a function to compute the loss with a set of clusters $C$ and a set of centroids $M$"
      ]
    },
    {
      "cell_type": "code",
      "metadata": {
        "id": "H27myfj9mdxO"
      },
      "source": [
        "def compute_loss(C, M):\n",
        "\n",
        "    loss = #compute loss#\n",
        "    \n",
        "    return loss"
      ],
      "execution_count": null,
      "outputs": []
    },
    {
      "cell_type": "markdown",
      "metadata": {
        "id": "4m3siWiilQ19"
      },
      "source": [
        "## 2. Loss"
      ]
    },
    {
      "cell_type": "markdown",
      "metadata": {
        "id": "xaRo1WVYnwwJ"
      },
      "source": [
        "- the loss function $\\mathcal{L}(C_1, C_2, \\cdots, C_k, \\mu_1, \\mu_2, \\cdots, \\mu_k)$ with a given number of clusters $k$ for a set of data $\\{ z_i \\}_{i=1}^{n}$ is defined by: $\\mathcal{L}(C_1, C_2, \\cdots, C_k, \\mu_1, \\mu_2, \\cdots, \\mu_k) = \\frac{1}{n} \\sum_{i=1}^n \\| z_i - \\mu_{l(z_i)} \\|_2^2 = \\frac{1}{n} \\sum_{j=1}^k \\sum_{z_i \\in C_j} \\| z_i - \\mu_j \\|_2^2$\n",
        "\n",
        "\n",
        "> * $l(z)=k$ is a label function that defines a label $k$ of point $z$\n",
        "> * $C_k$ denotes a set of points $\\{ z_i | l(z_i) = k \\}$ of label $k$\n",
        "> * $μ_k$​ denotes a centroid of points in $C_k$​\n",
        "\n",
        "\n",
        "\n",
        "\n",
        "\n",
        "\n",
        "\n"
      ]
    },
    {
      "cell_type": "code",
      "metadata": {
        "id": "BYsLtHGWlQPj"
      },
      "source": [
        ""
      ],
      "execution_count": null,
      "outputs": []
    },
    {
      "cell_type": "markdown",
      "metadata": {
        "id": "FQ_67saIlVy0"
      },
      "source": [
        "## 3. Optimisation"
      ]
    },
    {
      "cell_type": "markdown",
      "metadata": {
        "id": "z2TJ2EHkpWUn"
      },
      "source": [
        "* the label $l(z)$ of each point $z$ is determined by:\n",
        "$l(z) = \\arg\\min_k \\| z - \\mu_k \\|_2^2$\n",
        "\n",
        "* the centroid $\\mu_i$​ of cluster $k$ is determined by:\n",
        "$\\mu_k = \\frac{\\sum_{z_i \\in C_k} z_i}{|C_k|}​​$\n",
        "\n",
        "\n",
        "\n"
      ]
    },
    {
      "cell_type": "code",
      "metadata": {
        "id": "NAn4ske-lZgg"
      },
      "source": [
        ""
      ],
      "execution_count": null,
      "outputs": []
    },
    {
      "cell_type": "markdown",
      "metadata": {
        "id": "091TUiZ2lZyi"
      },
      "source": [
        "##4. Clustering"
      ]
    },
    {
      "cell_type": "markdown",
      "metadata": {
        "id": "neGTJaSipxnv"
      },
      "source": [
        "* initialise labels $l(z_i)$ for point ziz_izi​ for all $i$ randomly\n",
        "* optimise the loss function with respect to the centroids and the clusters in an alternative way\n",
        "* set the number of clusters $k = 5$"
      ]
    },
    {
      "cell_type": "code",
      "metadata": {
        "id": "jKKefigMlcGk"
      },
      "source": [
        ""
      ],
      "execution_count": null,
      "outputs": []
    },
    {
      "cell_type": "markdown",
      "metadata": {
        "id": "BTQzoU0sldv1"
      },
      "source": [
        "# Output"
      ]
    },
    {
      "cell_type": "markdown",
      "metadata": {
        "id": "6xQfvEZDlmH5"
      },
      "source": [
        "##1. Plot the data points [1pt]"
      ]
    },
    {
      "cell_type": "code",
      "metadata": {
        "id": "YCypyfNQllIA"
      },
      "source": [
        ""
      ],
      "execution_count": null,
      "outputs": []
    },
    {
      "cell_type": "markdown",
      "metadata": {
        "id": "mJ2i0Rhrllzz"
      },
      "source": [
        "## 2. Visualise the initial condition of the point labels [1pt]"
      ]
    },
    {
      "cell_type": "code",
      "metadata": {
        "id": "-y2jJ9hSljUA"
      },
      "source": [
        ""
      ],
      "execution_count": null,
      "outputs": []
    },
    {
      "cell_type": "markdown",
      "metadata": {
        "id": "yNuHeULSlu7f"
      },
      "source": [
        "## 3. Plot the loss curve [5pt]"
      ]
    },
    {
      "cell_type": "code",
      "metadata": {
        "id": "oWPt45Tmlvet"
      },
      "source": [
        ""
      ],
      "execution_count": null,
      "outputs": []
    },
    {
      "cell_type": "markdown",
      "metadata": {
        "id": "ld9gnsihlyYN"
      },
      "source": [
        "##4. Plot the centroid of each clsuter [5pt]"
      ]
    },
    {
      "cell_type": "code",
      "metadata": {
        "id": "xNpvHieHl2BI"
      },
      "source": [
        ""
      ],
      "execution_count": null,
      "outputs": []
    },
    {
      "cell_type": "markdown",
      "metadata": {
        "id": "YB00dWhhl2gx"
      },
      "source": [
        "##5. Plot the final clustering result [5pt]"
      ]
    },
    {
      "cell_type": "code",
      "metadata": {
        "id": "gkaRKFYRl6y8"
      },
      "source": [
        ""
      ],
      "execution_count": null,
      "outputs": []
    }
  ]
}