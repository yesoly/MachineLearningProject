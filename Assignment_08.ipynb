{
  "nbformat": 4,
  "nbformat_minor": 0,
  "metadata": {
    "colab": {
      "name": "Assignment-08.ipynb",
      "provenance": [],
      "private_outputs": true,
      "toc_visible": true,
      "mount_file_id": "1wY8t_x-UwCirV009sLYcNUhC-M00UfIj",
      "authorship_tag": "ABX9TyM0YmoqMkLKLdbS9iU3HoRY",
      "include_colab_link": true
    },
    "kernelspec": {
      "name": "python3",
      "display_name": "Python 3"
    }
  },
  "cells": [
    {
      "cell_type": "markdown",
      "metadata": {
        "id": "view-in-github",
        "colab_type": "text"
      },
      "source": [
        "<a href=\"https://colab.research.google.com/github/yesoly/MachineLearningProject/blob/master/Assignment_08.ipynb\" target=\"_parent\"><img src=\"https://colab.research.google.com/assets/colab-badge.svg\" alt=\"Open In Colab\"/></a>"
      ]
    },
    {
      "cell_type": "markdown",
      "metadata": {
        "id": "lbncEkW-lFrw"
      },
      "source": [
        "# Principal Component Analysis"
      ]
    },
    {
      "cell_type": "code",
      "metadata": {
        "id": "VxgA6dlyaTsJ"
      },
      "source": [
        "import numpy as np\n",
        "import matplotlib.pyplot as plt\n",
        "import pandas as pd\n",
        "import random as rd"
      ],
      "execution_count": null,
      "outputs": []
    },
    {
      "cell_type": "markdown",
      "metadata": {
        "id": "QK01KQ8qlMSy"
      },
      "source": [
        "## 1. Data"
      ]
    },
    {
      "cell_type": "markdown",
      "metadata": {
        "id": "RmKR9zkLmrI_"
      },
      "source": [
        "\n",
        "\n",
        "- the data are given by the file data-pca.txt\n",
        "- the data consist of a set of points $\\{ (x_i, y_i) \\}_{i=1}^{n}​$ where $z_i = (x_i, y_i)$ denotes a 2-dimensional point in the cartesian coordinate\n",
        "\n"
      ]
    },
    {
      "cell_type": "markdown",
      "metadata": {
        "id": "UA-Y91DvmACZ"
      },
      "source": [
        "load the data from the files"
      ]
    },
    {
      "cell_type": "code",
      "metadata": {
        "id": "MQRrsn3Yk9Wz"
      },
      "source": [
        "path = '/content/drive/My Drive/ML_Assignment/data/data-pca.txt'\n",
        "data = np.loadtxt(path, delimiter=',')\n",
        "x = data[:,0]\n",
        "y = data[:,1]"
      ],
      "execution_count": null,
      "outputs": []
    },
    {
      "cell_type": "markdown",
      "metadata": {
        "id": "Kr6Una9CsZih"
      },
      "source": [
        "Plot the original data points"
      ]
    },
    {
      "cell_type": "code",
      "metadata": {
        "id": "XE7iFEoSr39F"
      },
      "source": [
        "fig_1 = plt.figure(figsize = (6,6))\n",
        "plt.scatter(x, y, c='r', marker = '+') \n",
        "plt.title('original data points')\n",
        "plt.show()\n",
        "fig_1.savefig('original data points.png')"
      ],
      "execution_count": null,
      "outputs": []
    },
    {
      "cell_type": "markdown",
      "metadata": {
        "id": "4m3siWiilQ19"
      },
      "source": [
        "## 2. Normalization"
      ]
    },
    {
      "cell_type": "markdown",
      "metadata": {
        "id": "xaRo1WVYnwwJ"
      },
      "source": [
        "- the data is normalized to have the mean = 0 and the standard deviation = 1\n",
        "- $x = \\frac{x - \\mu_x}{\\sigma_x}$ and $y = \\frac{y - \\mu_y}{\\sigma_y}$​\n",
        "\n",
        "\n",
        "> * $\\mu_x$​ denotes the mean of $x$\n",
        "> * $\\sigma_x$​ denotes the standard deviation of $x$\n",
        "> * $\\mu_y$​ denotes the mean of $y$\n",
        "> * $\\sigma_y$​ denotes the standard deviation of $y$\n",
        "\n",
        "\n",
        "\n",
        "\n",
        "\n",
        "\n",
        "\n"
      ]
    },
    {
      "cell_type": "markdown",
      "metadata": {
        "id": "v9-46ojSMgcl"
      },
      "source": [
        "define a function to normalize the input data points $x$ and $y$"
      ]
    },
    {
      "cell_type": "code",
      "metadata": {
        "id": "EFFuXRuYL6Bx"
      },
      "source": [
        "def normalize_data(x, y):\n",
        "\n",
        "    xn = x - np.mean(x) / np.std(x) # normalize x. the mean of xn is zero and the standard deviation of xn is one #\n",
        "    yn = y - np.mean(y) / np.std(y) # normalize y. the mean of yn is zero and the standard deviation of yn is one #\n",
        "\n",
        "    return xn, yn"
      ],
      "execution_count": null,
      "outputs": []
    },
    {
      "cell_type": "markdown",
      "metadata": {
        "id": "T8BhK0Bfgd-S"
      },
      "source": [
        "Plot the normalized data points"
      ]
    },
    {
      "cell_type": "code",
      "metadata": {
        "id": "8YGRYtOXkT8E"
      },
      "source": [
        "xn, yn = normalize_data(x, y)"
      ],
      "execution_count": null,
      "outputs": []
    },
    {
      "cell_type": "code",
      "metadata": {
        "id": "Js5di45VgdfO"
      },
      "source": [
        "fig_2 = plt.figure(figsize = (6,6))\n",
        "plt.scatter(xn, yn, c='r', marker = '+') \n",
        "plt.title('data normalized by z-scoring')\n",
        "plt.show()\n",
        "fig_1.savefig('normalized data points.png')"
      ],
      "execution_count": null,
      "outputs": []
    },
    {
      "cell_type": "markdown",
      "metadata": {
        "id": "FQ_67saIlVy0"
      },
      "source": [
        "## 3. Covariance Matrix\n",
        "\n",
        "\n"
      ]
    },
    {
      "cell_type": "markdown",
      "metadata": {
        "id": "z2TJ2EHkpWUn"
      },
      "source": [
        "- compute the co-variance matrix\n",
        "- $\\Sigma = \\frac{1}{n} \\sum_{i = 1}^n z_i z_i^T = \\frac{1}{n} Z^T Z$\n",
        "\n",
        "> * $n$ denotes the number of data\n",
        "\n",
        "> * $Z = \\begin{bmatrix} z_1^T \\\\ \\vdots \\\\ z_n^T \\end{bmatrix}$\n",
        "\n",
        "\n",
        "\n"
      ]
    },
    {
      "cell_type": "markdown",
      "metadata": {
        "id": "k2r6sWRHmSxt"
      },
      "source": [
        "define a function to compute the co-variance matrix of the data"
      ]
    },
    {
      "cell_type": "code",
      "metadata": {
        "id": "ri0pe7tFmZBz"
      },
      "source": [
        "def compute_covariance(x, y):\n",
        "\n",
        "    covar = # compute the covariance matrix #\n",
        "    \n",
        "    return covar"
      ],
      "execution_count": null,
      "outputs": []
    },
    {
      "cell_type": "markdown",
      "metadata": {
        "id": "091TUiZ2lZyi"
      },
      "source": [
        "##4. Principal Components"
      ]
    },
    {
      "cell_type": "markdown",
      "metadata": {
        "id": "neGTJaSipxnv"
      },
      "source": [
        "* compute the eigen-values and the eigen-vectors of the co-variance matrix"
      ]
    },
    {
      "cell_type": "markdown",
      "metadata": {
        "id": "rPzp9qOExKIe"
      },
      "source": [
        "define a function to compute the principal directions from the co-variance matrix"
      ]
    },
    {
      "cell_type": "code",
      "metadata": {
        "id": "jKKefigMlcGk"
      },
      "source": [
        "def compute_principal_direction(covariance):\n",
        "\n",
        "    direction = # compute the principal directions from the co-variance matrix #\n",
        "    \n",
        "    return direction"
      ],
      "execution_count": null,
      "outputs": []
    },
    {
      "cell_type": "markdown",
      "metadata": {
        "id": "vRgWgTxp2t8_"
      },
      "source": [
        "define a function to compute the projection of the data point onto the principal axis"
      ]
    },
    {
      "cell_type": "code",
      "metadata": {
        "id": "hIyqvDoC2fVQ"
      },
      "source": [
        "def compute_projection(point, axis):\n",
        "\n",
        "    projection = # compute the projection of point on the axis #\n",
        "    \n",
        "    return projection"
      ],
      "execution_count": null,
      "outputs": []
    },
    {
      "cell_type": "code",
      "metadata": {
        "id": "nL0BOTHlffNN"
      },
      "source": [
        "def compute_distance(point1, point2):\n",
        "\n",
        "    distance = # compute the Euclidean distance between point1 and point2 #\n",
        "    \n",
        "    return distance"
      ],
      "execution_count": null,
      "outputs": []
    },
    {
      "cell_type": "markdown",
      "metadata": {
        "id": "HN6QKz8-2gtI"
      },
      "source": [
        "K-means clustering algorithms"
      ]
    },
    {
      "cell_type": "code",
      "metadata": {
        "id": "R1H4k-qlyTtP"
      },
      "source": [
        "def k_means_clustering(max_iter, data, centroids):\n",
        "    loss_iters = [] # record the loss values\n",
        "    centroid_iters = []\n",
        "\n",
        "    for i in range(max_iter):\n",
        "        dist = compute_distance(data, centroids)\n",
        "        cluster = compute_label(dist)\n",
        "        centroids = compute_centroid(cluster)\n",
        "        loss = compute_loss(cluster, centroids)\n",
        "        c_dist = compute_centroid_distrance(centroids)\n",
        "        loss_iters.append(loss)      # save the current loss value\n",
        "        centroid_iters.append(c_dist)\n",
        "\n",
        "    return cluster, centroids, loss_iters, centroid_iters"
      ],
      "execution_count": null,
      "outputs": []
    },
    {
      "cell_type": "markdown",
      "metadata": {
        "id": "OE1Dt40b0Ka8"
      },
      "source": [
        "Learning K-means clustering"
      ]
    },
    {
      "cell_type": "code",
      "metadata": {
        "id": "5KZCFo07IBuY"
      },
      "source": [
        "final_result, final_c, loss_iter, c_iter = k_means_clustering(max_iter, data, centroids)"
      ],
      "execution_count": null,
      "outputs": []
    },
    {
      "cell_type": "markdown",
      "metadata": {
        "id": "fIOCJJJed5Oi"
      },
      "source": [
        "Plot the loss curve"
      ]
    },
    {
      "cell_type": "code",
      "metadata": {
        "id": "gCgDmFHGdz3H"
      },
      "source": [
        "# Plot the loss curve\n",
        "fig_3 = plt.figure(figsize = (8,5))\n",
        "\n",
        "plt.plot(np.array(range(max_iter)),loss_iter, c = 'b')\n",
        "plt.title('Loss')\n",
        "plt.show()\n",
        "\n",
        "fig_3.savefig('Loss.png')"
      ],
      "execution_count": null,
      "outputs": []
    },
    {
      "cell_type": "markdown",
      "metadata": {
        "id": "kc3SrkefePeA"
      },
      "source": [
        "Plot the centroid of each clsuter"
      ]
    },
    {
      "cell_type": "code",
      "metadata": {
        "id": "J4Z09pnUePCF"
      },
      "source": [
        "# Plot the centroid of each clsuter\n",
        "fig_4 = plt.figure(figsize = (8,8))\n",
        "\n",
        "color=['red','blue','green', 'black', 'yellow']\n",
        "label=['Cluster 1','Cluster 2','Cluster 3', 'Cluster 4', 'Cluster 5']\n",
        "np_c_iter = np.array(c_iter)\n",
        "\n",
        "for i in range(k):\n",
        "    idx = (final_result[:,2]==i)\n",
        "    plt.plot(np.array(range(max_iter)), np_c_iter[:,i], c=color[i],label=label[i])\n",
        "\n",
        "plt.title('centroid of clsuter')\n",
        "plt.legend(loc = 'upper right')\n",
        "plt.show()\n",
        "fig_4.savefig('centroid of clsuter.png')"
      ],
      "execution_count": null,
      "outputs": []
    },
    {
      "cell_type": "markdown",
      "metadata": {
        "id": "13CPqcFCeLkA"
      },
      "source": [
        "Plot the final clustering result"
      ]
    },
    {
      "cell_type": "code",
      "metadata": {
        "id": "62qFG7T0xFMI"
      },
      "source": [
        "fig_5 = plt.figure(figsize = (8,8))\n",
        "\n",
        "color=['red','blue','green', 'black', 'yellow']\n",
        "label=['Cluster 1','Cluster 2','Cluster 3', 'Cluster 4', 'Cluster 5']\n",
        "for i in range(k):\n",
        "    idx = (final_result[:,2]==i)\n",
        "    plt.scatter(x_data[idx],y_data[idx], c=color[i],label=label[i])\n",
        "plt.scatter(final_c[:,0],final_c[:,1],s=300, c='k', marker='+', label='Centroids')\n",
        "\n",
        "plt.title('Final cluster')\n",
        "plt.legend()\n",
        "plt.show()\n",
        "fig_5.savefig('Final cluster.png')"
      ],
      "execution_count": null,
      "outputs": []
    },
    {
      "cell_type": "markdown",
      "metadata": {
        "id": "BTQzoU0sldv1"
      },
      "source": [
        "# Output"
      ]
    },
    {
      "cell_type": "markdown",
      "metadata": {
        "id": "6xQfvEZDlmH5"
      },
      "source": [
        "##1. Plot the original data points [1pt]"
      ]
    },
    {
      "cell_type": "code",
      "metadata": {
        "id": "YCypyfNQllIA"
      },
      "source": [
        "fig_1"
      ],
      "execution_count": null,
      "outputs": []
    },
    {
      "cell_type": "markdown",
      "metadata": {
        "id": "mJ2i0Rhrllzz"
      },
      "source": [
        "## 2. Plot the normalized data points [1pt]"
      ]
    },
    {
      "cell_type": "markdown",
      "metadata": {
        "id": "cQFrsnr8eyKD"
      },
      "source": [
        "- $z = \\frac{z - \\mu}{\\sigma}​$\n",
        "- $\\mu$ denotes the average and $\\sigma$ denotes the standard deviation"
      ]
    },
    {
      "cell_type": "code",
      "metadata": {
        "id": "-y2jJ9hSljUA"
      },
      "source": [
        "fig_2"
      ],
      "execution_count": null,
      "outputs": []
    },
    {
      "cell_type": "markdown",
      "metadata": {
        "id": "yNuHeULSlu7f"
      },
      "source": [
        "## 3. Plot the principal axes [2pt]"
      ]
    },
    {
      "cell_type": "markdown",
      "metadata": {
        "id": "U8-8vtrqeuc0"
      },
      "source": [
        "- plot the normalized data points\n",
        "- plot the first principal vector\n",
        "- plot the second principal vector"
      ]
    },
    {
      "cell_type": "code",
      "metadata": {
        "id": "oWPt45Tmlvet"
      },
      "source": [
        "fig_3"
      ],
      "execution_count": null,
      "outputs": []
    },
    {
      "cell_type": "markdown",
      "metadata": {
        "id": "ld9gnsihlyYN"
      },
      "source": [
        "##4. Plot the first principal axis [3pt]"
      ]
    },
    {
      "cell_type": "markdown",
      "metadata": {
        "id": "cZR9NPBCedYO"
      },
      "source": [
        "- plot the normalized data points\n",
        "- plot the first principal axis"
      ]
    },
    {
      "cell_type": "code",
      "metadata": {
        "id": "xNpvHieHl2BI"
      },
      "source": [
        "fig_4"
      ],
      "execution_count": null,
      "outputs": []
    },
    {
      "cell_type": "markdown",
      "metadata": {
        "id": "YB00dWhhl2gx"
      },
      "source": [
        "##5. Plot the project of the normalized data points onto the first principal axis [4pt]"
      ]
    },
    {
      "cell_type": "markdown",
      "metadata": {
        "id": "DZbw0w8AeZH7"
      },
      "source": [
        "- plot the normalized data points\n",
        "- plot the first principal axis\n",
        "- plot the projected points from the normalized data points onto the first principal axis"
      ]
    },
    {
      "cell_type": "code",
      "metadata": {
        "id": "gkaRKFYRl6y8"
      },
      "source": [
        "fig_5"
      ],
      "execution_count": null,
      "outputs": []
    },
    {
      "cell_type": "markdown",
      "metadata": {
        "id": "fZBZIL95dwvg"
      },
      "source": [
        "## 6. Plot the lines between the normalized data points and their projection points on the first principal axis [3pt]"
      ]
    },
    {
      "cell_type": "markdown",
      "metadata": {
        "id": "_bKO9O-QeU4C"
      },
      "source": [
        "- plot the normalized data points\n",
        "- plot the first principal axis\n",
        "- plot the projected points from the normalized data points onto the first principal axis\n",
        "- plot the lines that connect between the normalized data points and their projection points on the first principal axis"
      ]
    },
    {
      "cell_type": "code",
      "metadata": {
        "id": "f8uf5svedznN"
      },
      "source": [
        "fig_6"
      ],
      "execution_count": null,
      "outputs": []
    },
    {
      "cell_type": "markdown",
      "metadata": {
        "id": "JREZPuB2dz8U"
      },
      "source": [
        "##7. Plot the second principal axis [3pt]"
      ]
    },
    {
      "cell_type": "markdown",
      "metadata": {
        "id": "jCxtI2RLeRMv"
      },
      "source": [
        "- plot the normalized data points\n",
        "- plot the second principal axis"
      ]
    },
    {
      "cell_type": "code",
      "metadata": {
        "id": "F8cJGbjmd278"
      },
      "source": [
        "fig_7"
      ],
      "execution_count": null,
      "outputs": []
    },
    {
      "cell_type": "markdown",
      "metadata": {
        "id": "CCbY3-Qod3Nv"
      },
      "source": [
        "##8. Plot the project of the normalized data points onto the second principal axis [4pt]"
      ]
    },
    {
      "cell_type": "markdown",
      "metadata": {
        "id": "440KCaqCeJas"
      },
      "source": [
        "- plot the normalized data points\n",
        "- plot the second principal axis\n",
        "- plot the projected points from the normalized data points onto the second principal axis"
      ]
    },
    {
      "cell_type": "code",
      "metadata": {
        "id": "kVt332Cud6Gx"
      },
      "source": [
        "fig_8"
      ],
      "execution_count": null,
      "outputs": []
    },
    {
      "cell_type": "markdown",
      "metadata": {
        "id": "s7yyOgsMd6jc"
      },
      "source": [
        "##9. Plot the lines between the normalized data points and their projection points on the second principal axis [3pt]"
      ]
    },
    {
      "cell_type": "markdown",
      "metadata": {
        "id": "5g1F4t9leDJY"
      },
      "source": [
        "- plot the normalized data points\n",
        "- plot the second principal axis\n",
        "- plot the projected points from the normalized data points onto the second principal axis\n",
        "- plot the lines that connect between the normalized data points and their projection points on the second principal axis"
      ]
    },
    {
      "cell_type": "code",
      "metadata": {
        "id": "8yFcmAHUd8Vb"
      },
      "source": [
        "fig_9"
      ],
      "execution_count": null,
      "outputs": []
    }
  ]
}