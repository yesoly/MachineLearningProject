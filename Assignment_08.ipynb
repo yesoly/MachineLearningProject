{
  "nbformat": 4,
  "nbformat_minor": 0,
  "metadata": {
    "colab": {
      "name": "Assignment-08.ipynb",
      "provenance": [],
      "private_outputs": true,
      "toc_visible": true,
      "mount_file_id": "1wY8t_x-UwCirV009sLYcNUhC-M00UfIj",
      "authorship_tag": "ABX9TyPhV+2NGNB3tG36K0k1Q+LX",
      "include_colab_link": true
    },
    "kernelspec": {
      "name": "python3",
      "display_name": "Python 3"
    }
  },
  "cells": [
    {
      "cell_type": "markdown",
      "metadata": {
        "id": "view-in-github",
        "colab_type": "text"
      },
      "source": [
        "<a href=\"https://colab.research.google.com/github/yesoly/MachineLearningProject/blob/master/Assignment_08.ipynb\" target=\"_parent\"><img src=\"https://colab.research.google.com/assets/colab-badge.svg\" alt=\"Open In Colab\"/></a>"
      ]
    },
    {
      "cell_type": "markdown",
      "metadata": {
        "id": "lbncEkW-lFrw"
      },
      "source": [
        "# Principal Component Analysis"
      ]
    },
    {
      "cell_type": "code",
      "metadata": {
        "id": "VxgA6dlyaTsJ"
      },
      "source": [
        "import numpy as np\n",
        "import matplotlib.pyplot as plt\n",
        "import pandas as pd\n",
        "import random as rd"
      ],
      "execution_count": null,
      "outputs": []
    },
    {
      "cell_type": "markdown",
      "metadata": {
        "id": "QK01KQ8qlMSy"
      },
      "source": [
        "## 1. Data"
      ]
    },
    {
      "cell_type": "markdown",
      "metadata": {
        "id": "RmKR9zkLmrI_"
      },
      "source": [
        "\n",
        "\n",
        "- the data are given by the file data-pca.txt\n",
        "- the data consist of a set of points $\\{ (x_i, y_i) \\}_{i=1}^{n}​$ where $z_i = (x_i, y_i)$ denotes a 2-dimensional point in the cartesian coordinate\n",
        "\n"
      ]
    },
    {
      "cell_type": "markdown",
      "metadata": {
        "id": "UA-Y91DvmACZ"
      },
      "source": [
        "load the data from the files"
      ]
    },
    {
      "cell_type": "code",
      "metadata": {
        "id": "MQRrsn3Yk9Wz"
      },
      "source": [
        "path = '/content/drive/My Drive/ML_Assignment/data/data-pca.txt'\n",
        "data = np.loadtxt(path, delimiter=',')\n",
        "x = data[:,0]\n",
        "y = data[:,1]"
      ],
      "execution_count": null,
      "outputs": []
    },
    {
      "cell_type": "markdown",
      "metadata": {
        "id": "Kr6Una9CsZih"
      },
      "source": [
        "Plot the original data points"
      ]
    },
    {
      "cell_type": "code",
      "metadata": {
        "id": "XE7iFEoSr39F"
      },
      "source": [
        "fig_1 = plt.figure(figsize = (6,6))\n",
        "plt.scatter(x, y, c='r', marker = '+') \n",
        "plt.title('original data points')\n",
        "plt.show()\n",
        "fig_1.savefig('original data points.png')"
      ],
      "execution_count": null,
      "outputs": []
    },
    {
      "cell_type": "markdown",
      "metadata": {
        "id": "4m3siWiilQ19"
      },
      "source": [
        "## 2. Normalization"
      ]
    },
    {
      "cell_type": "markdown",
      "metadata": {
        "id": "xaRo1WVYnwwJ"
      },
      "source": [
        "- the data is normalized to have the mean = 0 and the standard deviation = 1\n",
        "- $x = \\frac{x - \\mu_x}{\\sigma_x}$ and $y = \\frac{y - \\mu_y}{\\sigma_y}$​\n",
        "\n",
        "\n",
        "> * $\\mu_x$​ denotes the mean of $x$\n",
        "> * $\\sigma_x$​ denotes the standard deviation of $x$\n",
        "> * $\\mu_y$​ denotes the mean of $y$\n",
        "> * $\\sigma_y$​ denotes the standard deviation of $y$\n",
        "\n",
        "\n",
        "\n",
        "\n",
        "\n",
        "\n",
        "\n"
      ]
    },
    {
      "cell_type": "markdown",
      "metadata": {
        "id": "v9-46ojSMgcl"
      },
      "source": [
        "define a function to normalize the input data points $x$ and $y$"
      ]
    },
    {
      "cell_type": "code",
      "metadata": {
        "id": "EFFuXRuYL6Bx"
      },
      "source": [
        "def normalize_data(x, y):\n",
        "\n",
        "    xn = (x - x.mean(axis=0)) / x.std(axis=0) # normalize x. the mean of xn is zero and the standard deviation of xn is one #\n",
        "    yn = (y - y.mean(axis=0)) / y.std(axis=0) # normalize y. the mean of yn is zero and the standard deviation of yn is one #\n",
        "\n",
        "    return xn, yn"
      ],
      "execution_count": null,
      "outputs": []
    },
    {
      "cell_type": "markdown",
      "metadata": {
        "id": "T8BhK0Bfgd-S"
      },
      "source": [
        "Plot the normalized data points"
      ]
    },
    {
      "cell_type": "code",
      "metadata": {
        "id": "8YGRYtOXkT8E"
      },
      "source": [
        "xn, yn = normalize_data(x, y)"
      ],
      "execution_count": null,
      "outputs": []
    },
    {
      "cell_type": "code",
      "metadata": {
        "id": "Js5di45VgdfO"
      },
      "source": [
        "fig_2 = plt.figure(figsize = (6,6))\n",
        "plt.scatter(xn, yn, c='r', marker = '+') \n",
        "plt.title('data normalized by z-scoring')\n",
        "plt.axis([-3, 3, -3, 3])\n",
        "plt.show()\n",
        "fig_1.savefig('normalized data points.png')"
      ],
      "execution_count": null,
      "outputs": []
    },
    {
      "cell_type": "markdown",
      "metadata": {
        "id": "FQ_67saIlVy0"
      },
      "source": [
        "## 3. Covariance Matrix\n",
        "\n",
        "\n"
      ]
    },
    {
      "cell_type": "markdown",
      "metadata": {
        "id": "z2TJ2EHkpWUn"
      },
      "source": [
        "- compute the co-variance matrix\n",
        "- $\\Sigma = \\frac{1}{n} \\sum_{i = 1}^n z_i z_i^T = \\frac{1}{n} Z^T Z$\n",
        "\n",
        "> * $n$ denotes the number of data\n",
        "\n",
        "> * $Z = \\begin{bmatrix} z_1^T \\\\ \\vdots \\\\ z_n^T \\end{bmatrix}$\n",
        "\n",
        "\n",
        "\n"
      ]
    },
    {
      "cell_type": "markdown",
      "metadata": {
        "id": "k2r6sWRHmSxt"
      },
      "source": [
        "define a function to compute the co-variance matrix of the data"
      ]
    },
    {
      "cell_type": "code",
      "metadata": {
        "id": "ri0pe7tFmZBz"
      },
      "source": [
        "def compute_covariance(z):\n",
        "    # compute the covariance matrix #\n",
        "    covar = np.cov(z.T)\n",
        "    return covar"
      ],
      "execution_count": null,
      "outputs": []
    },
    {
      "cell_type": "code",
      "metadata": {
        "id": "J2P3_vAvmiS3"
      },
      "source": [
        "Z = np.c_[xn,yn]\n",
        "covariance = compute_covariance(Z)  # return 2x2 metrix"
      ],
      "execution_count": null,
      "outputs": []
    },
    {
      "cell_type": "markdown",
      "metadata": {
        "id": "091TUiZ2lZyi"
      },
      "source": [
        "##4. Principal Components"
      ]
    },
    {
      "cell_type": "markdown",
      "metadata": {
        "id": "neGTJaSipxnv"
      },
      "source": [
        "* compute the eigen-values and the eigen-vectors of the co-variance matrix"
      ]
    },
    {
      "cell_type": "markdown",
      "metadata": {
        "id": "rPzp9qOExKIe"
      },
      "source": [
        "define a function to compute the principal directions from the co-variance matrix"
      ]
    },
    {
      "cell_type": "code",
      "metadata": {
        "id": "jKKefigMlcGk"
      },
      "source": [
        "def compute_principal_direction(covariance):\n",
        "\n",
        "    e_value, e_vector = np.linalg.eig(covariance) # compute the principal directions from the co-variance matrix #\n",
        "    \n",
        "    return e_value, e_vector"
      ],
      "execution_count": null,
      "outputs": []
    },
    {
      "cell_type": "code",
      "metadata": {
        "id": "Pk_uA-joqJ4B"
      },
      "source": [
        "e_value, e_vector = compute_principal_direction(covariance)"
      ],
      "execution_count": null,
      "outputs": []
    },
    {
      "cell_type": "code",
      "metadata": {
        "id": "U7n05dw1iFJS"
      },
      "source": [
        "print(e_vector)\n",
        "print(e_value)"
      ],
      "execution_count": null,
      "outputs": []
    },
    {
      "cell_type": "code",
      "metadata": {
        "id": "Y38wf9WX4ypK"
      },
      "source": [
        "# 내림차순 정렬\n",
        "idx = np.flip(e_value.argsort())\n",
        "e_value = e_value[idx]\n",
        "e_vector = e_vector[:, idx]"
      ],
      "execution_count": null,
      "outputs": []
    },
    {
      "cell_type": "markdown",
      "metadata": {
        "id": "l_yEOTs4osz3"
      },
      "source": [
        "Plot the principal axes"
      ]
    },
    {
      "cell_type": "code",
      "metadata": {
        "id": "Lw9_FHRZtSq5"
      },
      "source": [
        "fig_3 = plt.figure(figsize = (6,6))\n",
        "plt.scatter(xn, yn, c='r', marker = '+')\n",
        "Origin = [0], [0]\n",
        "plt.quiver([0,0], [0,0], e_vector[0, 0], e_vector[1, 0], color=['g'],angles='xy', scale_units='xy', scale=0.4)\n",
        "plt.quiver([0,0], [0,0], e_vector[0, 1], e_vector[1, 1], color=['b'],angles='xy', scale_units='xy', scale=2)\n",
        "plt.title('principal direction')\n",
        "plt.axis([-3, 3, -3, 3])\n",
        "plt.show()\n",
        "fig_3.savefig('principal direction.png')"
      ],
      "execution_count": null,
      "outputs": []
    },
    {
      "cell_type": "markdown",
      "metadata": {
        "id": "Uz7zht9tokcj"
      },
      "source": [
        "Plot the first principal axis"
      ]
    },
    {
      "cell_type": "code",
      "metadata": {
        "id": "_YFD3LJ4mjGs"
      },
      "source": [
        "fig_4 = plt.figure(figsize = (6,6))\n",
        "plt.scatter(xn, yn, c='r', marker = '+')\n",
        "plt.title('first principal axis')\n",
        "plt.axis([-3, 3, -3, 3])\n",
        "plt.show()\n",
        "fig_3.savefig('first principal axis.png')"
      ],
      "execution_count": null,
      "outputs": []
    },
    {
      "cell_type": "markdown",
      "metadata": {
        "id": "vRgWgTxp2t8_"
      },
      "source": [
        "define a function to compute the projection of the data point onto the principal axis"
      ]
    },
    {
      "cell_type": "code",
      "metadata": {
        "id": "hIyqvDoC2fVQ"
      },
      "source": [
        "# 축에 수직으로 projection 했을 때의 점\n",
        "def compute_projection(point, axis):\n",
        "\n",
        "    # compute the projection of point on the axis #\n",
        "    projection = np.dot(point, e_vector)\n",
        "    \n",
        "    return projection"
      ],
      "execution_count": null,
      "outputs": []
    },
    {
      "cell_type": "code",
      "metadata": {
        "id": "uBbNyH1huO9s"
      },
      "source": [
        "pca = compute_projection(Z, e_vector)"
      ],
      "execution_count": null,
      "outputs": []
    },
    {
      "cell_type": "code",
      "metadata": {
        "id": "0UpF5CcMzoOC"
      },
      "source": [
        "fig_4 = plt.figure(figsize = (6,6))\n",
        "plt.scatter(xn, yn, c='r', marker = '+') \n",
        "plt.scatter(pca[:,0], pca[:,1], c = 'b')\n",
        "plt.title('first principal axis')\n",
        "plt.show()\n",
        "fig_4.savefig('first principal axis.png')"
      ],
      "execution_count": null,
      "outputs": []
    },
    {
      "cell_type": "code",
      "metadata": {
        "id": "nL0BOTHlffNN"
      },
      "source": [
        "# 유클리드 좌표계에서 점사이의 거리\n",
        "def compute_distance(point1, point2):\n",
        "\n",
        "    distance = # compute the Euclidean distance between point1 and point2 #\n",
        "    \n",
        "    return distance"
      ],
      "execution_count": null,
      "outputs": []
    },
    {
      "cell_type": "markdown",
      "metadata": {
        "id": "BTQzoU0sldv1"
      },
      "source": [
        "# Output"
      ]
    },
    {
      "cell_type": "markdown",
      "metadata": {
        "id": "6xQfvEZDlmH5"
      },
      "source": [
        "##1. Plot the original data points [1pt]"
      ]
    },
    {
      "cell_type": "code",
      "metadata": {
        "id": "YCypyfNQllIA"
      },
      "source": [
        "fig_1"
      ],
      "execution_count": null,
      "outputs": []
    },
    {
      "cell_type": "markdown",
      "metadata": {
        "id": "mJ2i0Rhrllzz"
      },
      "source": [
        "## 2. Plot the normalized data points [1pt]"
      ]
    },
    {
      "cell_type": "markdown",
      "metadata": {
        "id": "cQFrsnr8eyKD"
      },
      "source": [
        "- $z = \\frac{z - \\mu}{\\sigma}​$\n",
        "- $\\mu$ denotes the average and $\\sigma$ denotes the standard deviation"
      ]
    },
    {
      "cell_type": "code",
      "metadata": {
        "id": "-y2jJ9hSljUA"
      },
      "source": [
        "fig_2"
      ],
      "execution_count": null,
      "outputs": []
    },
    {
      "cell_type": "markdown",
      "metadata": {
        "id": "yNuHeULSlu7f"
      },
      "source": [
        "## 3. Plot the principal axes [2pt]"
      ]
    },
    {
      "cell_type": "markdown",
      "metadata": {
        "id": "U8-8vtrqeuc0"
      },
      "source": [
        "- plot the normalized data points\n",
        "- plot the first principal vector\n",
        "- plot the second principal vector"
      ]
    },
    {
      "cell_type": "code",
      "metadata": {
        "id": "oWPt45Tmlvet"
      },
      "source": [
        "fig_3"
      ],
      "execution_count": null,
      "outputs": []
    },
    {
      "cell_type": "markdown",
      "metadata": {
        "id": "ld9gnsihlyYN"
      },
      "source": [
        "##4. Plot the first principal axis [3pt]"
      ]
    },
    {
      "cell_type": "markdown",
      "metadata": {
        "id": "cZR9NPBCedYO"
      },
      "source": [
        "- plot the normalized data points\n",
        "- plot the first principal axis"
      ]
    },
    {
      "cell_type": "code",
      "metadata": {
        "id": "xNpvHieHl2BI"
      },
      "source": [
        "fig_4"
      ],
      "execution_count": null,
      "outputs": []
    },
    {
      "cell_type": "markdown",
      "metadata": {
        "id": "YB00dWhhl2gx"
      },
      "source": [
        "##5. Plot the project of the normalized data points onto the first principal axis [4pt]"
      ]
    },
    {
      "cell_type": "markdown",
      "metadata": {
        "id": "DZbw0w8AeZH7"
      },
      "source": [
        "- plot the normalized data points\n",
        "- plot the first principal axis\n",
        "- plot the projected points from the normalized data points onto the first principal axis"
      ]
    },
    {
      "cell_type": "code",
      "metadata": {
        "id": "gkaRKFYRl6y8"
      },
      "source": [
        "fig_5"
      ],
      "execution_count": null,
      "outputs": []
    },
    {
      "cell_type": "markdown",
      "metadata": {
        "id": "fZBZIL95dwvg"
      },
      "source": [
        "## 6. Plot the lines between the normalized data points and their projection points on the first principal axis [3pt]"
      ]
    },
    {
      "cell_type": "markdown",
      "metadata": {
        "id": "_bKO9O-QeU4C"
      },
      "source": [
        "- plot the normalized data points\n",
        "- plot the first principal axis\n",
        "- plot the projected points from the normalized data points onto the first principal axis\n",
        "- plot the lines that connect between the normalized data points and their projection points on the first principal axis"
      ]
    },
    {
      "cell_type": "code",
      "metadata": {
        "id": "f8uf5svedznN"
      },
      "source": [
        "fig_6"
      ],
      "execution_count": null,
      "outputs": []
    },
    {
      "cell_type": "markdown",
      "metadata": {
        "id": "JREZPuB2dz8U"
      },
      "source": [
        "##7. Plot the second principal axis [3pt]"
      ]
    },
    {
      "cell_type": "markdown",
      "metadata": {
        "id": "jCxtI2RLeRMv"
      },
      "source": [
        "- plot the normalized data points\n",
        "- plot the second principal axis"
      ]
    },
    {
      "cell_type": "code",
      "metadata": {
        "id": "F8cJGbjmd278"
      },
      "source": [
        "fig_7"
      ],
      "execution_count": null,
      "outputs": []
    },
    {
      "cell_type": "markdown",
      "metadata": {
        "id": "CCbY3-Qod3Nv"
      },
      "source": [
        "##8. Plot the project of the normalized data points onto the second principal axis [4pt]"
      ]
    },
    {
      "cell_type": "markdown",
      "metadata": {
        "id": "440KCaqCeJas"
      },
      "source": [
        "- plot the normalized data points\n",
        "- plot the second principal axis\n",
        "- plot the projected points from the normalized data points onto the second principal axis"
      ]
    },
    {
      "cell_type": "code",
      "metadata": {
        "id": "kVt332Cud6Gx"
      },
      "source": [
        "fig_8"
      ],
      "execution_count": null,
      "outputs": []
    },
    {
      "cell_type": "markdown",
      "metadata": {
        "id": "s7yyOgsMd6jc"
      },
      "source": [
        "##9. Plot the lines between the normalized data points and their projection points on the second principal axis [3pt]"
      ]
    },
    {
      "cell_type": "markdown",
      "metadata": {
        "id": "5g1F4t9leDJY"
      },
      "source": [
        "- plot the normalized data points\n",
        "- plot the second principal axis\n",
        "- plot the projected points from the normalized data points onto the second principal axis\n",
        "- plot the lines that connect between the normalized data points and their projection points on the second principal axis"
      ]
    },
    {
      "cell_type": "code",
      "metadata": {
        "id": "8yFcmAHUd8Vb"
      },
      "source": [
        "fig_9"
      ],
      "execution_count": null,
      "outputs": []
    }
  ]
}