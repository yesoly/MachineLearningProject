{
  "nbformat": 4,
  "nbformat_minor": 0,
  "metadata": {
    "colab": {
      "name": "Assignment_09.ipynb",
      "provenance": [],
      "private_outputs": true,
      "authorship_tag": "ABX9TyPRhBJl1VgVixamrH46q8Rc",
      "include_colab_link": true
    },
    "kernelspec": {
      "name": "python3",
      "display_name": "Python 3"
    },
    "accelerator": "GPU"
  },
  "cells": [
    {
      "cell_type": "markdown",
      "metadata": {
        "id": "view-in-github",
        "colab_type": "text"
      },
      "source": [
        "<a href=\"https://colab.research.google.com/github/yesoly/MachineLearningProject/blob/master/Assignment_09.ipynb\" target=\"_parent\"><img src=\"https://colab.research.google.com/assets/colab-badge.svg\" alt=\"Open In Colab\"/></a>"
      ]
    },
    {
      "cell_type": "markdown",
      "metadata": {
        "id": "fiN1v9kjyob9"
      },
      "source": [
        "# Classification for Multiple Categories using Pytorch\n",
        "Build a classifier for the digit classification task with 10 classes on the MNIST dataset"
      ]
    },
    {
      "cell_type": "code",
      "metadata": {
        "id": "keINBJ7T-Iz_"
      },
      "source": [
        "import os\n",
        "\n",
        "# load data\n",
        "from torch.utils.data import DataLoader\n",
        "from torchvision import datasets, transforms\n",
        "\n",
        "# train\n",
        "import torch\n",
        "from torch import nn\n",
        "from torch.nn import functional as F\n",
        "from torch.autograd import Variable\n",
        "import numpy as np\n",
        "\n",
        "# visualization\n",
        "import matplotlib.pyplot as plt"
      ],
      "execution_count": null,
      "outputs": []
    },
    {
      "cell_type": "markdown",
      "metadata": {
        "id": "AWWZxk_YytYy"
      },
      "source": [
        "## 1. Data"
      ]
    },
    {
      "cell_type": "markdown",
      "metadata": {
        "id": "hMk3u1YRyw2K"
      },
      "source": [
        "- apply normalization"
      ]
    },
    {
      "cell_type": "code",
      "metadata": {
        "id": "Iva8hyMCylZr"
      },
      "source": [
        "transform = transforms.Compose([\n",
        "    transforms.ToTensor(),\n",
        "    transforms.Normalize((0.1307,),(0.3081,)),  # mean value = 0.1307, standard deviation value = 0.3081\n",
        "])"
      ],
      "execution_count": null,
      "outputs": []
    },
    {
      "cell_type": "markdown",
      "metadata": {
        "id": "C7Pb3rf7y0pp"
      },
      "source": [
        "- load the MNIST dataset"
      ]
    },
    {
      "cell_type": "code",
      "metadata": {
        "id": "xT0ELIpty04g"
      },
      "source": [
        "data_path = './MNIST'\n",
        "\n",
        "training_set = datasets.MNIST(root = data_path, train= True, download=True, transform= transform)\n",
        "testing_set = datasets.MNIST(root = data_path, train= False, download=True, transform= transform)"
      ],
      "execution_count": null,
      "outputs": []
    },
    {
      "cell_type": "markdown",
      "metadata": {
        "id": "rLE3S-hiy599"
      },
      "source": [
        "## 2. Model\n",
        "- design a neural network that consists of three fully connected layers with an activation function of Sigmoid\n",
        "- the activation function for the output layer is LogSoftmax"
      ]
    },
    {
      "cell_type": "code",
      "metadata": {
        "id": "6PTLBSa5y9B6"
      },
      "source": [
        "class classification(nn.Module):\n",
        "    def __init__(self):\n",
        "        super(classification, self).__init__()\n",
        "        \n",
        "        # construct layers for a neural network\n",
        "        self.classifier1 = nn.Sequential(\n",
        "            nn.Linear(in_features=28*28, out_features=20*20),\n",
        "            nn.Sigmoid(),\n",
        "        ) \n",
        "        self.classifier2 = nn.Sequential(\n",
        "            nn.Linear(in_features=20*20, out_features=10*10),\n",
        "            nn.Sigmoid(),\n",
        "        ) \n",
        "        self.classifier3 = nn.Sequential(\n",
        "            nn.Linear(in_features=10*10, out_features=10),\n",
        "            nn.LogSoftmax(dim=1),\n",
        "        ) \n",
        "        \n",
        "        \n",
        "    def forward(self, inputs):                 # [batchSize, 1, 28, 28]\n",
        "        x = inputs.view(inputs.size(0), -1)    # [batchSize, 28*28]\n",
        "        x = self.classifier1(x)                # [batchSize, 20*20]\n",
        "        x = self.classifier2(x)                # [batchSize, 10*10]\n",
        "        out = self.classifier3(x)              # [batchSize, 10]\n",
        "        \n",
        "        return out"
      ],
      "execution_count": null,
      "outputs": []
    },
    {
      "cell_type": "markdown",
      "metadata": {
        "id": "uudYvz38zGnq"
      },
      "source": [
        "## 3. Loss function\n",
        "\n",
        "- the log of softmax\n",
        "- the negative log likelihood loss"
      ]
    },
    {
      "cell_type": "code",
      "metadata": {
        "id": "HcfziMP7zLQ1"
      },
      "source": [
        "criterion = nn.NLLLoss()"
      ],
      "execution_count": null,
      "outputs": []
    },
    {
      "cell_type": "markdown",
      "metadata": {
        "id": "lIKs_ZELzPdr"
      },
      "source": [
        "## 4. Optimization\n",
        "\n",
        "- use a stochastic gradient descent algorithm with different mini-batch sizes of 32, 64, 128\n",
        "- use a constant learning rate for all the mini-batch sizes\n",
        "- do not use any regularization algorithm such as dropout or weight decay\n",
        "- compute the average loss and the average accuracy for all the mini-batches within each epoch"
      ]
    },
    {
      "cell_type": "code",
      "metadata": {
        "id": "2l6x-kNAK2jy"
      },
      "source": [
        "device = torch.device('cuda:0' if torch.cuda.is_available() else 'cpu')\n",
        "print(device)"
      ],
      "execution_count": null,
      "outputs": []
    },
    {
      "cell_type": "code",
      "metadata": {
        "id": "z4ugfkI9EvGf"
      },
      "source": [
        "classifier = classification().to(device)\n",
        "learning_rate_value = 1e-3\n",
        "optimizer = torch.optim.SGD(classifier.parameters(), lr=learning_rate_value)"
      ],
      "execution_count": null,
      "outputs": []
    },
    {
      "cell_type": "markdown",
      "metadata": {
        "id": "0Dcn2PsxrPWY"
      },
      "source": [
        "## 6. Train"
      ]
    },
    {
      "cell_type": "code",
      "metadata": {
        "id": "MQ9ZAtt1y-sx"
      },
      "source": [
        "epochs = 60"
      ],
      "execution_count": null,
      "outputs": []
    },
    {
      "cell_type": "code",
      "metadata": {
        "id": "hTgVqzFLhN0F"
      },
      "source": [
        "def accuracy(log_pred, y_true):\n",
        "    y_pred = torch.argmax(log_pred, dim=1)\n",
        "    return (y_pred == y_true).to(torch.float).mean()"
      ],
      "execution_count": null,
      "outputs": []
    },
    {
      "cell_type": "code",
      "metadata": {
        "id": "xrvm1__wXYe5"
      },
      "source": [
        "def train(model, batch_size, optimizer, criterion):\n",
        "    model.train()\n",
        "    train_accuracy = 0.0\n",
        "    train_loss = 0.0\n",
        "    total = 0\n",
        "    train_loader = torch.utils.data.DataLoader(dataset=training_set, batch_size=batch_size, shuffle=True)\n",
        "    for batch_idx, (train_img, train_label) in enumerate(train_loader):\n",
        "        train_img, train_label = train_img.to(device), train_label.to(device)\n",
        "        train_output = model(train_img)\n",
        "        loss  = criterion(train_output, train_label)\n",
        "\n",
        "        optimizer.zero_grad()\n",
        "        loss.backward()\n",
        "        optimizer.step()\n",
        "\n",
        "        train_loss += loss\n",
        "        _, argmax = torch.max(train_output, 1)\n",
        "        total += train_label.size(0)\n",
        "        train_accuracy += (train_label == argmax).sum().item()\n",
        "        \n",
        "    print(\"Training Loss: {:.4f} \".format(train_loss/len(train_loader)),\n",
        "          \"Train Accuracy: {:.4f}\".format(train_accuracy/total))\n",
        "    \n",
        "    return train_loss/len(train_loader), train_accuracy/total\n",
        "\n",
        "\n",
        "def test(model, batch_size, optimizer, criterion):\n",
        "    model.eval()\n",
        "    total = 0\n",
        "    test_loss = 0.0\n",
        "    test_accuracy = 0.0\n",
        "    test_loader = torch.utils.data.DataLoader(dataset=testing_set, batch_size=batch_size, shuffle=False)\n",
        "    with torch.no_grad():\n",
        "        for test_img, test_label in test_loader:\n",
        "            test_img, test_label = test_img.to(device), test_label.to(device)\n",
        "            test_output = model(test_img)\n",
        "            test_loss += criterion(test_output, test_label)\n",
        "\n",
        "            _, argmax = torch.max(test_output, 1)\n",
        "            total += test_label.size(0)\n",
        "            test_accuracy += (argmax == test_label.data).sum().float()\n",
        "\n",
        "    print(\"Test Loss: {:.4f} \".format(test_loss/len(test_loader)),\n",
        "          \"Test Accuracy: {:.4f}\".format(test_accuracy / total))\n",
        "    \n",
        "    return test_loss/len(test_loader), test_accuracy /total"
      ],
      "execution_count": null,
      "outputs": []
    },
    {
      "cell_type": "code",
      "metadata": {
        "id": "ARsqvb8UYdBY"
      },
      "source": [
        "def run_epoch(model, batch_size, optimizer, criterion):\n",
        "    train_loss_list, train_acc_list, test_loss_list, test_acc_list = [], [], [], []\n",
        "    for epoch in range(epochs):\n",
        "        print(\"Epoch: {}/{} : \".format(epoch+1, epochs))\n",
        "        train_loss, train_acc = train(model, batch_size, optimizer, criterion)\n",
        "        test_loss, test_acc = test(model, batch_size, optimizer, criterion)\n",
        "        \n",
        "        train_loss_list.append(train_loss)\n",
        "        train_acc_list.append(train_acc)\n",
        "        test_loss_list.append(test_loss)\n",
        "        test_acc_list.append(test_acc)\n",
        "    \n",
        "    return train_loss_list, test_loss_list, train_acc_list, test_acc_list"
      ],
      "execution_count": null,
      "outputs": []
    },
    {
      "cell_type": "code",
      "metadata": {
        "id": "9Iri8Y_jbnf9"
      },
      "source": [
        "# mini-batch size = 32\n",
        "train_loss_list, test_loss_list, train_acc_list, test_acc_list = run_epoch(classifier, 32, optimizer, criterion)"
      ],
      "execution_count": null,
      "outputs": []
    },
    {
      "cell_type": "code",
      "metadata": {
        "id": "OLO3N-zU446f"
      },
      "source": [
        "# mini-batch size = 64\n",
        "train_loss, test_loss, train_acc, test_acc = training_mnist (classifier, 64, optimizer, criterion)\n"
      ],
      "execution_count": null,
      "outputs": []
    },
    {
      "cell_type": "code",
      "metadata": {
        "id": "7-IfT2umokZ5"
      },
      "source": [
        "# mini-batch size = 128\n",
        "train_loss, test_loss, train_acc, test_acc = training_mnist (classifier, 128, optimizer, criterion)"
      ],
      "execution_count": null,
      "outputs": []
    },
    {
      "cell_type": "markdown",
      "metadata": {
        "id": "2BbQMWmAzZXr"
      },
      "source": [
        "## 5. Output"
      ]
    },
    {
      "cell_type": "markdown",
      "metadata": {
        "id": "iF_VFWX1zfhP"
      },
      "source": [
        "1. Plot the training and testing losses with a batch size of 32 [4pt]"
      ]
    },
    {
      "cell_type": "code",
      "metadata": {
        "id": "o-rbrVPKzf1i"
      },
      "source": [
        ""
      ],
      "execution_count": null,
      "outputs": []
    },
    {
      "cell_type": "markdown",
      "metadata": {
        "id": "YjlipfErzi1T"
      },
      "source": [
        "2. Plot the training and testing accuracies with a batch size of 32 [4pt]"
      ]
    },
    {
      "cell_type": "code",
      "metadata": {
        "id": "nB1HiVCFzjUI"
      },
      "source": [
        ""
      ],
      "execution_count": null,
      "outputs": []
    },
    {
      "cell_type": "markdown",
      "metadata": {
        "id": "UkPHueOHzlnr"
      },
      "source": [
        "3. Plot the training and testing losses with a batch size of 64 [4pt]"
      ]
    },
    {
      "cell_type": "code",
      "metadata": {
        "id": "g8_F2VgtzmDe"
      },
      "source": [
        ""
      ],
      "execution_count": null,
      "outputs": []
    },
    {
      "cell_type": "markdown",
      "metadata": {
        "id": "UZbE04oNzn3h"
      },
      "source": [
        "4. Plot the training and testing accuracies with a batch size of 64 [4pt]"
      ]
    },
    {
      "cell_type": "code",
      "metadata": {
        "id": "PiX_OnqUzrGf"
      },
      "source": [
        ""
      ],
      "execution_count": null,
      "outputs": []
    },
    {
      "cell_type": "markdown",
      "metadata": {
        "id": "9oDNJ86lzslg"
      },
      "source": [
        "5. Plot the training and testing losses with a batch size of 128 [4pt]"
      ]
    },
    {
      "cell_type": "code",
      "metadata": {
        "id": "qVkdL0sMzt9I"
      },
      "source": [
        ""
      ],
      "execution_count": null,
      "outputs": []
    },
    {
      "cell_type": "markdown",
      "metadata": {
        "id": "GhRDD3zkzvgz"
      },
      "source": [
        "6. Plot the training and testing accuracies with a batch size of 128 [4pt]"
      ]
    },
    {
      "cell_type": "code",
      "metadata": {
        "id": "tj2JIpY2zwG_"
      },
      "source": [
        ""
      ],
      "execution_count": null,
      "outputs": []
    },
    {
      "cell_type": "markdown",
      "metadata": {
        "id": "AomaHVS3zxhu"
      },
      "source": [
        "7. Print the loss at convergence with different mini-batch sizes [3pt]"
      ]
    },
    {
      "cell_type": "code",
      "metadata": {
        "id": "k9cXC1WBzx4X"
      },
      "source": [
        ""
      ],
      "execution_count": null,
      "outputs": []
    },
    {
      "cell_type": "markdown",
      "metadata": {
        "id": "dnx57fFzzzPC"
      },
      "source": [
        "8. Print the accuracy at convergence with different mini-batch sizes [3pt]"
      ]
    },
    {
      "cell_type": "code",
      "metadata": {
        "id": "S1dMzB5Nzz1P"
      },
      "source": [
        ""
      ],
      "execution_count": null,
      "outputs": []
    }
  ]
}