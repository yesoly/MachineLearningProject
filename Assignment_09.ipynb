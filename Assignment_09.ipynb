{
  "nbformat": 4,
  "nbformat_minor": 0,
  "metadata": {
    "colab": {
      "name": "Assignment_09.ipynb",
      "provenance": [],
      "private_outputs": true,
      "toc_visible": true,
      "authorship_tag": "ABX9TyOzu2SLiza1kn0YMNRunsah",
      "include_colab_link": true
    },
    "kernelspec": {
      "name": "python3",
      "display_name": "Python 3"
    }
  },
  "cells": [
    {
      "cell_type": "markdown",
      "metadata": {
        "id": "view-in-github",
        "colab_type": "text"
      },
      "source": [
        "<a href=\"https://colab.research.google.com/github/yesoly/MachineLearningProject/blob/master/Assignment_09.ipynb\" target=\"_parent\"><img src=\"https://colab.research.google.com/assets/colab-badge.svg\" alt=\"Open In Colab\"/></a>"
      ]
    },
    {
      "cell_type": "markdown",
      "metadata": {
        "id": "fiN1v9kjyob9"
      },
      "source": [
        "# Classification for Multiple Categories using Pytorch\n",
        "Build a classifier for the digit classification task with 10 classes on the MNIST dataset"
      ]
    },
    {
      "cell_type": "markdown",
      "metadata": {
        "id": "AWWZxk_YytYy"
      },
      "source": [
        "## 1. Data"
      ]
    },
    {
      "cell_type": "markdown",
      "metadata": {
        "id": "hMk3u1YRyw2K"
      },
      "source": [
        "- apply normalization"
      ]
    },
    {
      "cell_type": "code",
      "metadata": {
        "id": "Iva8hyMCylZr"
      },
      "source": [
        "transform = transforms.Compose([\n",
        "    transforms.ToTensor(),\n",
        "    transforms.Normalize((0.1307,),(0.3081,)),  # mean value = 0.1307, standard deviation value = 0.3081\n",
        "])"
      ],
      "execution_count": null,
      "outputs": []
    },
    {
      "cell_type": "markdown",
      "metadata": {
        "id": "C7Pb3rf7y0pp"
      },
      "source": [
        "- load the MNIST dataset"
      ]
    },
    {
      "cell_type": "code",
      "metadata": {
        "id": "xT0ELIpty04g"
      },
      "source": [
        "data_path = './MNIST'\n",
        "\n",
        "training_set = datasets.MNIST(root = data_path, train= True, download=True, transform= transform)\n",
        "testing_set = datasets.MNIST(root = data_path, train= False, download=True, transform= transform)"
      ],
      "execution_count": null,
      "outputs": []
    },
    {
      "cell_type": "markdown",
      "metadata": {
        "id": "rLE3S-hiy599"
      },
      "source": [
        "## 2. Model\n",
        "- design a neural network that consists of three fully connected layers with an activation function of Sigmoid\n",
        "- the activation function for the output layer is LogSoftmax"
      ]
    },
    {
      "cell_type": "code",
      "metadata": {
        "id": "6PTLBSa5y9B6"
      },
      "source": [
        "class classification(nn.Module):\n",
        "    def __init__(self):\n",
        "        super(classification, self).__init__()\n",
        "        \n",
        "        # construct layers for a neural network\n",
        "        self.classifier1 = nn.Sequential(\n",
        "            nn.Linear(in_features=28*28, out_features=20*20),\n",
        "            nn.Sigmoid(),\n",
        "        ) \n",
        "        self.classifier2 = nn.Sequential(\n",
        "            nn.Linear(in_features=20*20, out_features=10*10),\n",
        "            nn.Sigmoid(),\n",
        "        ) \n",
        "        self.classifier3 = nn.Sequential(\n",
        "            nn.Linear(in_features=10*10, out_features=10),\n",
        "            nn.LogSoftmax(dim=1),\n",
        "        ) \n",
        "        \n",
        "        \n",
        "    def forward(self, inputs):                 # [batchSize, 1, 28, 28]\n",
        "        x = inputs.view(inputs.size(0), -1)    # [batchSize, 28*28]\n",
        "        x = self.classifier1(x)                # [batchSize, 20*20]\n",
        "        x = self.classifier2(x)                # [batchSize, 10*10]\n",
        "        out = self.classifier3(x)              # [batchSize, 10]\n",
        "        \n",
        "        return out"
      ],
      "execution_count": null,
      "outputs": []
    },
    {
      "cell_type": "markdown",
      "metadata": {
        "id": "uudYvz38zGnq"
      },
      "source": [
        "## 3. Loss function\n",
        "\n",
        "- the log of softmax\n",
        "- the negative log likelihood loss"
      ]
    },
    {
      "cell_type": "code",
      "metadata": {
        "id": "HcfziMP7zLQ1"
      },
      "source": [
        "criterion = nn.NLLLoss()"
      ],
      "execution_count": null,
      "outputs": []
    },
    {
      "cell_type": "markdown",
      "metadata": {
        "id": "lIKs_ZELzPdr"
      },
      "source": [
        "## 4. Optimization\n",
        "\n",
        "- use a stochastic gradient descent algorithm with different mini-batch sizes of 32, 64, 128\n",
        "- use a constant learning rate for all the mini-batch sizes\n",
        "- do not use any regularization algorithm such as dropout or weight decay\n",
        "- compute the average loss and the average accuracy for all the mini-batches within each epoch"
      ]
    },
    {
      "cell_type": "markdown",
      "metadata": {
        "id": "gkhp6AiXzVh0"
      },
      "source": [
        "classifier = classification().to(device)\n",
        "optimizer = torch.optim.SGD(classifier.parameters(), lr=learning_rate_value)\n"
      ]
    },
    {
      "cell_type": "markdown",
      "metadata": {
        "id": "2BbQMWmAzZXr"
      },
      "source": [
        "## 5. Output"
      ]
    },
    {
      "cell_type": "markdown",
      "metadata": {
        "id": "iF_VFWX1zfhP"
      },
      "source": [
        "1. Plot the training and testing losses with a batch size of 32 [4pt]"
      ]
    },
    {
      "cell_type": "code",
      "metadata": {
        "id": "o-rbrVPKzf1i"
      },
      "source": [
        ""
      ],
      "execution_count": null,
      "outputs": []
    },
    {
      "cell_type": "markdown",
      "metadata": {
        "id": "YjlipfErzi1T"
      },
      "source": [
        "2. Plot the training and testing accuracies with a batch size of 32 [4pt]"
      ]
    },
    {
      "cell_type": "code",
      "metadata": {
        "id": "nB1HiVCFzjUI"
      },
      "source": [
        ""
      ],
      "execution_count": null,
      "outputs": []
    },
    {
      "cell_type": "markdown",
      "metadata": {
        "id": "UkPHueOHzlnr"
      },
      "source": [
        "3. Plot the training and testing losses with a batch size of 64 [4pt]"
      ]
    },
    {
      "cell_type": "code",
      "metadata": {
        "id": "g8_F2VgtzmDe"
      },
      "source": [
        ""
      ],
      "execution_count": null,
      "outputs": []
    },
    {
      "cell_type": "markdown",
      "metadata": {
        "id": "UZbE04oNzn3h"
      },
      "source": [
        "4. Plot the training and testing accuracies with a batch size of 64 [4pt]"
      ]
    },
    {
      "cell_type": "code",
      "metadata": {
        "id": "PiX_OnqUzrGf"
      },
      "source": [
        ""
      ],
      "execution_count": null,
      "outputs": []
    },
    {
      "cell_type": "markdown",
      "metadata": {
        "id": "9oDNJ86lzslg"
      },
      "source": [
        "5. Plot the training and testing losses with a batch size of 128 [4pt]"
      ]
    },
    {
      "cell_type": "code",
      "metadata": {
        "id": "qVkdL0sMzt9I"
      },
      "source": [
        ""
      ],
      "execution_count": null,
      "outputs": []
    },
    {
      "cell_type": "markdown",
      "metadata": {
        "id": "GhRDD3zkzvgz"
      },
      "source": [
        "6. Plot the training and testing accuracies with a batch size of 128 [4pt]"
      ]
    },
    {
      "cell_type": "code",
      "metadata": {
        "id": "tj2JIpY2zwG_"
      },
      "source": [
        ""
      ],
      "execution_count": null,
      "outputs": []
    },
    {
      "cell_type": "markdown",
      "metadata": {
        "id": "AomaHVS3zxhu"
      },
      "source": [
        "7. Print the loss at convergence with different mini-batch sizes [3pt]"
      ]
    },
    {
      "cell_type": "code",
      "metadata": {
        "id": "k9cXC1WBzx4X"
      },
      "source": [
        ""
      ],
      "execution_count": null,
      "outputs": []
    },
    {
      "cell_type": "markdown",
      "metadata": {
        "id": "dnx57fFzzzPC"
      },
      "source": [
        "8. Print the accuracy at convergence with different mini-batch sizes [3pt]"
      ]
    },
    {
      "cell_type": "code",
      "metadata": {
        "id": "S1dMzB5Nzz1P"
      },
      "source": [
        ""
      ],
      "execution_count": null,
      "outputs": []
    }
  ]
}